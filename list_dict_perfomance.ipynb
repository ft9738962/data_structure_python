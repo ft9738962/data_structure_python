{
 "nbformat": 4,
 "nbformat_minor": 2,
 "metadata": {
  "language_info": {
   "name": "python",
   "codemirror_mode": {
    "name": "ipython",
    "version": 3
   },
   "version": "3.7.3-final"
  },
  "orig_nbformat": 2,
  "file_extension": ".py",
  "mimetype": "text/x-python",
  "name": "python",
  "npconvert_exporter": "python",
  "pygments_lexer": "ipython3",
  "version": 3,
  "kernelspec": {
   "name": "python3",
   "display_name": "Python 3"
  }
 },
 "cells": [
  {
   "cell_type": "markdown",
   "metadata": {},
   "source": [
    "### List 数据类型常用操作性能 ###"
   ]
  },
  {
   "cell_type": "code",
   "execution_count": 1,
   "metadata": {},
   "outputs": [],
   "source": [
    "#按索引取值赋值\n",
    "a = [0] * 10 #创建a列表，包含10个0\n",
    "a[0] = 1 #赋值，时间性能O(1)\n",
    "b = a[0] #取值，时间性能O(1)"
   ]
  },
  {
   "cell_type": "code",
   "execution_count": 4,
   "metadata": {},
   "outputs": [],
   "source": [
    "#列表增长\n",
    "a.append(2) #性能好，时间性能O(1)\n",
    "\n",
    "v = 2\n",
    "a = a+[v] #实际为生成新的列表，把列表复制过去，时间性能O(n+k)，其中k为len([v])"
   ]
  },
  {
   "cell_type": "markdown",
   "metadata": {},
   "source": [
    "比较不同生成顺序正数列表的方法\n",
    "\n",
    "- 循环连接+\n",
    "- append\n",
    "- 列表推导式\n",
    "- range函数转成列表\n"
   ]
  },
  {
   "cell_type": "code",
   "execution_count": 6,
   "metadata": {},
   "outputs": [],
   "source": [
    "def test1():\n",
    "    l = []\n",
    "    for i in range(1000):\n",
    "        l = l + [i]\n",
    "\n",
    "def test2():\n",
    "    l = []\n",
    "    for i in range(1000):\n",
    "        l.append(i)\n",
    "\n",
    "def test3():\n",
    "    l = [i for i in range(1000)]\n",
    "\n",
    "def test4():\n",
    "    l = list(range(1000))\n",
    ""
   ]
  },
  {
   "cell_type": "code",
   "execution_count": 10,
   "metadata": {},
   "outputs": [
    {
     "output_type": "stream",
     "name": "stdout",
     "text": "10.156631469726562\n"
    }
   ],
   "source": [
    "import time\n",
    "bg = time.time()\n",
    "test1()\n",
    "spent = time.time() - bg\n",
    "print(spent*1000) "
   ]
  },
  {
   "cell_type": "code",
   "execution_count": 11,
   "metadata": {},
   "outputs": [
    {
     "output_type": "stream",
     "name": "stdout",
     "text": "0.32782554626464844\n"
    }
   ],
   "source": [
    "import time\n",
    "bg = time.time()\n",
    "test2()\n",
    "spent = time.time() - bg\n",
    "print(spent*1000) "
   ]
  },
  {
   "cell_type": "code",
   "execution_count": 13,
   "metadata": {},
   "outputs": [
    {
     "output_type": "stream",
     "name": "stdout",
     "text": "0.13780593872070312\n"
    }
   ],
   "source": [
    "import time\n",
    "bg = time.time()\n",
    "test3()\n",
    "spent = time.time() - bg\n",
    "print(spent*1000) "
   ]
  },
  {
   "cell_type": "code",
   "execution_count": 15,
   "metadata": {},
   "outputs": [
    {
     "output_type": "stream",
     "name": "stdout",
     "text": "0.1163482666015625\n"
    }
   ],
   "source": [
    "import time\n",
    "bg = time.time()\n",
    "test4()\n",
    "spent = time.time() - bg\n",
    "print(spent*1000) "
   ]
  },
  {
   "cell_type": "code",
   "execution_count": 17,
   "metadata": {},
   "outputs": [],
   "source": [
    "from timeit import Timer\n",
    "\n",
    "t = Timer(test1)"
   ]
  },
  {
   "cell_type": "code",
   "execution_count": null,
   "metadata": {},
   "outputs": [],
   "source": []
  }
 ]
}