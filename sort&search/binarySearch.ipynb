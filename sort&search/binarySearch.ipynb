{
 "nbformat": 4,
 "nbformat_minor": 2,
 "metadata": {
  "language_info": {
   "name": "python",
   "codemirror_mode": {
    "name": "ipython",
    "version": 3
   },
   "version": "3.7.3-final"
  },
  "orig_nbformat": 2,
  "file_extension": ".py",
  "mimetype": "text/x-python",
  "name": "python",
  "npconvert_exporter": "python",
  "pygments_lexer": "ipython3",
  "version": 3,
  "kernelspec": {
   "name": "python3",
   "display_name": "Python 3"
  }
 },
 "cells": [
  {
   "cell_type": "markdown",
   "metadata": {},
   "source": [
    "在顺序查找中，假设有n个数据项的**有序列表**，在比对完第1个数据项后，后面还有n-1个数据项待比对\n",
    "\n",
    "而二分查找可以更有效的利用有序列表的特性，从列表中间开始比对：\n",
    "- 如果列表中间的项匹配，则查找结束\n",
    "- 如果不匹配：\n",
    "    - 列表中间项比查找项大，那么查找项只可能在前半部分\n",
    "    - 列表中间项比查找项小，那么查找项只可能在后半部分\n",
    "    - 那么我们剩下需要比对的项数就是n/2\n",
    "- 重复以上流程直至比较完毕"
   ]
  },
  {
   "cell_type": "code",
   "execution_count": 1,
   "metadata": {},
   "outputs": [],
   "source": [
    "def binarySearch(alist, item):\n",
    "    first = 0\n",
    "    last = len(alist) - 1\n",
    "    found = False\n",
    "    \n",
    "    while first <= last and not found:\n",
    "        midpoint = (first + last) // 2\n",
    "        if alist[midpoint] == item:\n",
    "            found = True\n",
    "        else:\n",
    "            if item < alist[midpoint]:\n",
    "                last = midpoint - 1\n",
    "            else:\n",
    "                first = midpoint + 1\n",
    "    return found"
   ]
  },
  {
   "cell_type": "markdown",
   "metadata": {},
   "source": [
    "二分法是典型的分而治之，因此也可以用递归算法"
   ]
  },
  {
   "cell_type": "code",
   "execution_count": 2,
   "metadata": {},
   "outputs": [],
   "source": [
    "def binarySearchRecursion(alist, item):\n",
    "    if len(alist) == 0:\n",
    "        return False\n",
    "    else:\n",
    "        midpoint = len(alist) // 2\n",
    "        if alist[midpoint] == item:\n",
    "            return True\n",
    "        else:\n",
    "            if item < alist[midpoint]:\n",
    "                return binarySearchRecursion(alist[:midpoint], item)\n",
    "            else:\n",
    "                return binarySearchRecursion(alist[midpoint + 1:], item)"
   ]
  },
  {
   "cell_type": "markdown",
   "metadata": {},
   "source": [
    "二分查找的复杂度是O(log(n))\n",
    "\n",
    "需要注意的是递归版本使用了alist[:midpoint]的切片操作，操作复杂度是O(k)，主要是为了程序阅读的简便，如果追求速度，可以参照普通版本，使用first和last来记录搜索的位置\n",
    "\n",
    "### 二分查找和顺序查找\n",
    "二分查找需要在有序列表上使用，也就是需要排序开销，因此在实际使用中，还是要考虑到排序的影响来决定是否使用二分查找还是顺序查找"
   ]
  }
 ]
}