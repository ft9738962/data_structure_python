{
 "nbformat": 4,
 "nbformat_minor": 2,
 "metadata": {
  "language_info": {
   "name": "python",
   "codemirror_mode": {
    "name": "ipython",
    "version": 3
   },
   "version": "3.7.3-final"
  },
  "orig_nbformat": 2,
  "file_extension": ".py",
  "mimetype": "text/x-python",
  "name": "python",
  "npconvert_exporter": "python",
  "pygments_lexer": "ipython3",
  "version": 3,
  "kernelspec": {
   "name": "python3",
   "display_name": "Python 3"
  }
 },
 "cells": [
  {
   "cell_type": "markdown",
   "metadata": {},
   "source": [
    "### 插入排序的流程\n",
    "- 维持一个已排好序的子列表，其位置始终在列表的前部，然后逐步扩大这个子列表直至全表\n",
    "- 第一轮时，子列表只有第一个数据项，将第2个数据项作为“新项”插入到子列表的合适位置中\n",
    "- 第二轮时，再将第3个数据项跟子列表内数据项对比（2个数据项），将大的数据项移开空出位置，放置“新项”\n",
    "- 经过n-1轮对比和插入，子列表扩展到全表，排序完成\n",
    "\n",
    "### 插入排序的特点\n",
    "- 时间复杂度也是O(n^2)\n",
    "- 插入排序的比对主要用来寻找“新项”的插入位置\n",
    "- 最差情况是每轮都与所有子项比对，总比对数与冒泡排序相同，O(n^2)\n",
    "- 最好情况是，列表已经排好序，每轮仅比对1次，总次数是O(n)"
   ]
  },
  {
   "cell_type": "code",
   "execution_count": 1,
   "metadata": {},
   "outputs": [],
   "source": [
    "def insertionSort(alist):\n",
    "    for index in range(1, len(alist)):\n",
    "\n",
    "        currentvalue = alist[index] #保存本轮被排序值\n",
    "        position = index\n",
    "\n",
    "        while position > 0 and alist[position-1] > currentvalue: #逆序比较大小\n",
    "            alist[position] = alist[position-1]\n",
    "            position = position - 1\n",
    "\n",
    "        alist[position] = currentvalue"
   ]
  },
  {
   "cell_type": "markdown",
   "metadata": {},
   "source": [
    "因为移动操作仅包含1次赋值，是交换操作的1/3，所以插入排序的性能会好一些\n",
    "\n",
    "### 谢尔排序Shell Sort\n",
    "- 插入排序的主要问题是，如果列表过于无序，则会有很多次的比较和交换\n",
    "- 谢尔排序是对插入排序的改进，通过设定间隔从大到小，多轮使用插入排序，逐步减少后一轮插入排序的难度，从而减少整体的比对次数\n",
    "\n",
    "谢尔排序操作：\n",
    "\n",
    "1. 按照n/2，n/4，n/8直到1的间隔将列表划分\n",
    "2. 对分表内的数据进行插入排序\n",
    "3. 直到间隔为1时，进行最后一轮插入排序"
   ]
  },
  {
   "cell_type": "code",
   "execution_count": null,
   "metadata": {},
   "outputs": [],
   "source": [
    "def shellSort(alist):\n",
    "    sublistcount = len(alist) // 2 #间隔设定\n",
    "    while sublistcount > 0:\n",
    "        for startposition  in range(sublistcount):\n",
    "            gapInsertionSort(alist, startposition, sublistcount) #使用插入排序对列表分列排序\n",
    "        sublistcount = len(alist) // 2\n",
    "\n",
    "def gapInsertionSort(alist start, gap):\n",
    "    for i in range(start + gap, len(alist), gap):\n",
    "        currentvalue = alist[i]\n",
    "        position = i\n",
    "        \n",
    "        while position >= gap and alist[position - gap] > currentvalue:\n",
    "            alist[position] = alist[position - gap]\n",
    "            position = position - gapInsertionSort\n",
    "        alist[position] = currentvalue"
   ]
  },
  {
   "cell_type": "markdown",
   "metadata": {},
   "source": [
    "- 谢尔排序的复杂度大致在O(n)到O(n^2)之间\n",
    "- 如果间隔保持在2^k-1（1,3,5,7,15,31等），谢尔排序的复杂度约为O(n^1.5)"
   ]
  }
 ]
}