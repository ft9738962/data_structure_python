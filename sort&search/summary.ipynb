{
 "nbformat": 4,
 "nbformat_minor": 2,
 "metadata": {
  "language_info": {
   "name": "python",
   "codemirror_mode": {
    "name": "ipython",
    "version": 3
   }
  },
  "orig_nbformat": 2,
  "file_extension": ".py",
  "mimetype": "text/x-python",
  "name": "python",
  "npconvert_exporter": "python",
  "pygments_lexer": "ipython3",
  "version": 3
 },
 "cells": [
  {
   "cell_type": "markdown",
   "metadata": {},
   "source": [
    "各个排序算法的是肩负再度和空间复杂度\n",
    "\n",
    "|算法|时间复杂度（最优）|时间复杂度（最差）|时间复杂度（平均）|空间复杂度|备注|\n",
    "|:---:|:---:|:---:|:---:|:---:|:---:|\n",
    "|冒泡排序|n|n^2|n^2|n|时间复杂度n^2，包含比较的n^2和交换的n^2|\n",
    "|选择排序|n^2|n^2|n^2|n|每一轮比较过程同冒泡，但只记录最大值位置，交换一次，因此交换复杂度为n|\n",
    "|插入排序|n|n^2|n^2|n|每一轮都跟上一轮完成的有序进行比较，减少了无效比较次数|\n",
    "|谢尔排序|n|n^1.5||n|最优时间复杂度的步长为2^k-1|\n",
    "|归并排序|nlogn|nlogn|nlogn|n|空间复杂度为n，但实际需要2倍的n空间，对于大数据项使用需要注意|\n",
    "|快速排序|nlogn|n^2|nlogn|n|排序时间主要受中值选取的影响，其较归并排序的优点在于只会使用固定额外空间|\n"
   ]
  }
 ]
}