{
 "nbformat": 4,
 "nbformat_minor": 2,
 "metadata": {
  "language_info": {
   "name": "python",
   "codemirror_mode": {
    "name": "ipython",
    "version": 3
   },
   "version": "3.7.3-final"
  },
  "orig_nbformat": 2,
  "file_extension": ".py",
  "mimetype": "text/x-python",
  "name": "python",
  "npconvert_exporter": "python",
  "pygments_lexer": "ipython3",
  "version": 3,
  "kernelspec": {
   "name": "python3",
   "display_name": "Python 3"
  }
 },
 "cells": [
  {
   "cell_type": "markdown",
   "metadata": {},
   "source": [
    "### 冒泡排序\n",
    "- 对无序表进行多轮比较交换\n",
    "- 每轮又包含了多次两两相邻比较，并将逆序的数据项互换位置，最终能将本轮的最大数据项找出\n",
    "- 经过n-1轮（n为列表中数据项个数）交换，实现整表排序\n",
    "- 每轮的过程类似于“气泡”在水中不断上浮到水面的过程"
   ]
  },
  {
   "cell_type": "code",
   "execution_count": 1,
   "metadata": {},
   "outputs": [],
   "source": [
    "def bubbleSort(alist):\n",
    "    for passnum in range(len(alist)-1, 0, -1):\n",
    "        for i in range(passnum):\n",
    "            if alist[i] > alist[i+1]:\n",
    "                temp = alist[i]\n",
    "                alist[i] = alist[i+1]\n",
    "                alist[i+1] = temp\n",
    "                #python支持直接交换\n",
    "                #alist[i], alist[i+1] = alist[i+1], alist[i]"
   ]
  },
  {
   "cell_type": "code",
   "execution_count": 2,
   "metadata": {},
   "outputs": [
    {
     "output_type": "stream",
     "name": "stdout",
     "text": "[17, 20, 26, 31, 44, 54, 55, 77, 93]\n"
    }
   ],
   "source": [
    "#test\n",
    "alist = [54, 26, 93, 17, 77, 31, 44, 55, 20]\n",
    "bubbleSort(alist)\n",
    "print(alist)"
   ]
  },
  {
   "cell_type": "markdown",
   "metadata": {},
   "source": [
    "冒泡排序的时间复杂度：\n",
    "- 比较复杂度O(n^2)\n",
    "- 交换复杂度O(n^2)\n",
    "\n",
    "### 冒泡排序改进\n",
    "- 可以通过监测每轮是否发生交换，来确定有没有提前完成"
   ]
  },
  {
   "cell_type": "code",
   "execution_count": 4,
   "metadata": {},
   "outputs": [],
   "source": [
    "#将改进实现\n",
    "def shortBubbleSort(alist):\n",
    "    exchanges = False\n",
    "    passnum = len(alist) - 1\n",
    "    while passnum > 0 and exchanges:\n",
    "        exchanges = False\n",
    "        for i in range(passnum):\n",
    "            if alist[i] > alist[i+1]:\n",
    "                temp = alist[i]\n",
    "                alist[i] = alist[i+1]\n",
    "                alist[i+1] = temp\n",
    "        passnum = passnum - 1"
   ]
  },
  {
   "cell_type": "markdown",
   "metadata": {},
   "source": [
    "### 选择排序Selection Sort\n",
    "- 选择排序对冒泡排序进行了改进，保留了多轮比对思路，每轮都使最大项就位\n",
    "- 但选择排序对交换进行了削减，每轮只进行一次交换，记录最大项所在的位置，最后跟本轮的最后一项交换\n",
    "- 选择排序的时间复杂度较冒泡排序稍优：\n",
    "    - 比对复杂度O(n^2)\n",
    "    - 交换复杂度O(n)"
   ]
  },
  {
   "cell_type": "code",
   "execution_count": 5,
   "metadata": {},
   "outputs": [],
   "source": [
    "def selectionSort(alist):\n",
    "    for fillslot in range(len(alist)-1, 0, -1):\n",
    "        positionOfMax = 0\n",
    "        for location in range(1, fillslot+1):\n",
    "            if alis[location] > alist[positionOfMax]:\n",
    "                positionOfMax = location #有更大值就记录位置\n",
    "\n",
    "        #交换本轮最大值\n",
    "        temp = alsit[fillslot]\n",
    "        alist[fillslot] = alist[positionOfMax]\n",
    "        alist[positionOfMax] = temp"
   ]
  }
 ]
}