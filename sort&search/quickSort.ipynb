{
 "nbformat": 4,
 "nbformat_minor": 2,
 "metadata": {
  "language_info": {
   "name": "python",
   "codemirror_mode": {
    "name": "ipython",
    "version": 3
   }
  },
  "orig_nbformat": 2,
  "file_extension": ".py",
  "mimetype": "text/x-python",
  "name": "python",
  "npconvert_exporter": "python",
  "pygments_lexer": "ipython3",
  "version": 3
 },
 "cells": [
  {
   "cell_type": "markdown",
   "metadata": {},
   "source": [
    "### 快速排序思路\n",
    "- 使用一个“中值”数据项来把数据表分为两半：小于中值的一半和大于中值的一半\n",
    "- 然后对两个一半分别实施快速排序\n",
    "\n",
    "### 快速排序的递归三要素：\n",
    "\n",
    "1. 基本结束条件：数据表只剩1个数据项\n",
    "2. 缩小规模：根据“中值”，将数据表分为两半，最好情况是相等规模\n",
    "3. 调用自身：将两半分别调用自身进行排序\n",
    "\n",
    "### 快速排序分裂数据表的流程：\n",
    "- 设置左右标：\n",
    "    - 左标一直向右移动，碰到比中值大的就停止\n",
    "    - 右标一直向左移动，碰到比中值小的就停止\n",
    "    - 然后把左右标所指的数据项交换\n",
    "- 持续移动左右标，直到左标到了右标的右侧，停止移动\n",
    "- 右标所指的位置就是“中值”应处的位置\n",
    "- 将中值和这个位置交换\n",
    "- 分裂完成，“中值”位置左边的数比“中值”小，右边的数比“中值”大"
   ]
  },
  {
   "cell_type": "code",
   "execution_count": null,
   "metadata": {},
   "outputs": [],
   "source": [
    "def quickSort(alist):\n",
    "    quickSortHelper(alist, 0, len(alist) - 1)\n",
    "\n",
    "def quickSortHelper(alist, first, last):\n",
    "    if first < last:\n",
    "        splitpoint = partition(alist, first, last)\n",
    "        quickSortHelper(alist, first, splitpoint - 1) #递归\n",
    "        quickSortHelper(alist, splitpoint + 1, last)\n",
    "    \n",
    "def partition(alist, first, last):\n",
    "    pivotvalue = alist[first] #选定“中值”\n",
    "\n",
    "    leftmark = first + 1 #左标\n",
    "    rightmark = last #右标\n",
    "\n",
    "    done = False\n",
    "    while not done:\n",
    "        while leftmark <= rightmark and alist[leftmark] <= pivotvalue:\n",
    "            leftmark = leftmark + 1\n",
    "\n",
    "        while alist[rightmark] >= pivotvalue and rightmark >= leftmark:\n",
    "            rightmark = rightmark - 1\n",
    "        \n",
    "        if rightmark < leftmark: #两标交错就结束\n",
    "            done = True\n",
    "        else:\n",
    "            temp = alist[leftmark] #不交错就交换左右标值\n",
    "            alist[leftmark] = alist[rightmark]\n",
    "            alist[rightmark] = temp\n",
    "    # 中值换位\n",
    "    temp = alist[first]\n",
    "    alist[first] = alist[rightmark]\n",
    "    alist[rightmark] = temp \n",
    "\n",
    "    return rightmark #返回中值位置"
   ]
  },
  {
   "cell_type": "markdown",
   "metadata": {},
   "source": [
    "- 假如中值合理，算法时间复杂度是O(nlogn)\n",
    "- 假如每次中值的选取造成分裂的一半没有值，那么时间复杂度是O(n^2)\n",
    "- 快排算法的优点是不需要额外的存储空间"
   ]
  }
 ]
}