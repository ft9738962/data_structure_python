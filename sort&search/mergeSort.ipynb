{
 "nbformat": 4,
 "nbformat_minor": 2,
 "metadata": {
  "language_info": {
   "name": "python",
   "codemirror_mode": {
    "name": "ipython",
    "version": 3
   },
   "version": "3.7.3-final"
  },
  "orig_nbformat": 2,
  "file_extension": ".py",
  "mimetype": "text/x-python",
  "name": "python",
  "npconvert_exporter": "python",
  "pygments_lexer": "ipython3",
  "version": 3,
  "kernelspec": {
   "name": "python3",
   "display_name": "Python 3"
  }
 },
 "cells": [
  {
   "cell_type": "markdown",
   "metadata": {},
   "source": [
    "### 归并排序\n",
    "- 归并排序是递归算法\n",
    "- 将数据表持续分裂为两半，对两半分别归并排序，进行递归，直至数据表分裂后只有1个数据项"
   ]
  },
  {
   "cell_type": "code",
   "execution_count": 10,
   "metadata": {},
   "outputs": [],
   "source": [
    "def mergeSort(alist):\n",
    "    if len(alist) > 1:\n",
    "        mid = len(alist) // 2\n",
    "        lefthalf = alist[:mid]\n",
    "        righthalf = alist[mid:]\n",
    "\n",
    "        mergeSort(lefthalf)\n",
    "        mergeSort(righthalf)\n",
    "\n",
    "        i = j = k = 0\n",
    "        while i < len(lefthalf) and j < len(righthalf):\n",
    "            if lefthalf[i] < righthalf[j]:\n",
    "                alist[k] = lefthalf[i]\n",
    "                i = i + 1\n",
    "            else:\n",
    "                alist[k] = righthalf[j]\n",
    "                j = j + 1\n",
    "            k = k + 1\n",
    "        while i < len(lefthalf):\n",
    "            alist[k] = lefthalf[i]\n",
    "            i = i + 1\n",
    "            k = k + 1\n",
    "        while j < len(righthalf):\n",
    "            alist[k] = righthalf[j]\n",
    "            j = j + 1\n",
    "            k = k + 1\n",
    "        "
   ]
  },
  {
   "cell_type": "code",
   "execution_count": 13,
   "metadata": {},
   "outputs": [
    {
     "output_type": "stream",
     "name": "stdout",
     "text": "[18, 18, 20, 21, 26, 91, 97, 110, 119, 150, 155, 162, 166, 169, 176, 180, 189, 213, 216, 225, 253, 260, 275, 294, 294, 299, 318, 351, 360, 376, 414, 422, 423, 470, 470, 479, 497, 499, 555, 566, 601, 603, 627, 653, 655, 664, 674, 680, 689, 707, 707, 715, 746, 766, 778, 788, 825, 842, 847, 852, 858, 913, 960, 979]\n"
    }
   ],
   "source": [
    "#test\n",
    "mergeSort(l)\n",
    "print(l)"
   ]
  },
  {
   "cell_type": "code",
   "execution_count": 14,
   "metadata": {},
   "outputs": [],
   "source": [
    "#更Pythonic的写法\n",
    "def merge_sort(lst):\n",
    "    if len(lst) < 1:\n",
    "        return lst\n",
    "\n",
    "    middle = len(lst) // 2\n",
    "    left = merge_sort(list[:middle])\n",
    "    right = merge_sort(list[middle:])\n",
    "\n",
    "    merged = []\n",
    "    while left and right:\n",
    "        if left[0] <= right[0]:\n",
    "            merged.append(left.pop(0))\n",
    "        else:\n",
    "            merged.append(right.pop(0))\n",
    "\n",
    "        merged.extend(right if right else left) #把左半边或右半边多余的插入\n",
    "        return merged"
   ]
  },
  {
   "cell_type": "markdown",
   "metadata": {},
   "source": [
    "- 归并排序的时间复杂度是O(nlogn)\n",
    "- 归并排序需要额外1倍的存储空间，因此在对大数据集进行排序时需要考虑到"
   ]
  }
 ]
}