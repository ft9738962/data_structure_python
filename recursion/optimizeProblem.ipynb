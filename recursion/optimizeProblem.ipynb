{
 "nbformat": 4,
 "nbformat_minor": 2,
 "metadata": {
  "language_info": {
   "name": "python",
   "codemirror_mode": {
    "name": "ipython",
    "version": 3
   },
   "version": "3.7.3-final"
  },
  "orig_nbformat": 2,
  "file_extension": ".py",
  "mimetype": "text/x-python",
  "name": "python",
  "npconvert_exporter": "python",
  "pygments_lexer": "ipython3",
  "version": 3,
  "kernelspec": {
   "name": "python3",
   "display_name": "Python 3"
  }
 },
 "cells": [
  {
   "cell_type": "markdown",
   "metadata": {},
   "source": [
    "# 经典案例1：最少硬币个数的问题\n",
    "\n",
    "给定一定的硬币组合，如何在找零时找给客户最少数量硬币"
   ]
  },
  {
   "cell_type": "markdown",
   "metadata": {},
   "source": [
    "方案1：贪心策略\n",
    "- 从最大面值的硬币开始，用尽量多数量的硬币找零\n",
    "- 有余额时，再使用下一个最大面值的硬币，重复上一步\n",
    "- 直到余额为零\n",
    "\n",
    "这个策略在常规的货币体系下表现较好，但是假设提供的硬币组合是{1,5,10,21,25}，在面对找零为63的时候，贪心策略会失效"
   ]
  },
  {
   "cell_type": "markdown",
   "metadata": {},
   "source": [
    "### 解决该问题的递归解法\n",
    "\n",
    "对于63个硬币，减小问题规模，相当于在以下5个方案中寻找最小硬币数解：\n",
    "\n",
    "1. 1枚1元硬币+62个硬币的最小硬币数（62个硬币最优方案为递归展开）\n",
    "2. 1枚5元硬币+58个硬币的最小硬币数（58个硬币最优方案为递归展开）\n",
    "3. 1枚10元硬币+53个硬币的最小硬币数（53个硬币最优方案为递归展开）\n",
    "4. 1枚21元硬币+42个硬币的最小硬币数（42个硬币最优方案为递归展开）\n",
    "5. +1枚25元硬币+38个硬币的最小硬币数（38个硬币最优方案为递归展开）"
   ]
  },
  {
   "cell_type": "code",
   "execution_count": 2,
   "metadata": {},
   "outputs": [],
   "source": [
    "def recMC(coinValueList, change):\n",
    "    minCoins = change #先最大化找零硬币数\n",
    "    if change in coinValueList:\n",
    "        return 1\n",
    "    else:\n",
    "        for i in [c for c in coinValueList if c <= change]: #单枚硬币价值大于剩余找零的就不进入迭代\n",
    "            numCoins = 1 + recMC(coinValueList, change - i) #递归得到最小硬币数\n",
    "            if numCoins < minCoins:\n",
    "                minCoins = numCoins #更新最小硬币数\n",
    "    return minCoins"
   ]
  },
  {
   "cell_type": "code",
   "execution_count": 4,
   "metadata": {},
   "outputs": [
    {
     "output_type": "stream",
     "name": "stdout",
     "text": "5.476737\n3\n23.505405\n"
    }
   ],
   "source": [
    "#test\n",
    "import time\n",
    "print(time.clock()) #开始时间\n",
    "print(recMC([1,5,10,21,25], 63))\n",
    "print(time.clock()) #结束时间"
   ]
  },
  {
   "cell_type": "markdown",
   "metadata": {},
   "source": [
    "由上面的测试就可以发现该递归算法非常低效，因为其递归存在大量重复（5条路径下的递归存在重复的最优解计算）\n",
    "\n",
    "优化该算法的办法是在过程中，记录最优解，避免重复计算"
   ]
  },
  {
   "cell_type": "code",
   "execution_count": 10,
   "metadata": {},
   "outputs": [],
   "source": [
    "def recDC(coinValueList, change, knownResults): #增加knownResults记录已经计算过的最优值\n",
    "    minCoins = change #先最大化找零硬币数\n",
    "    if change in coinValueList:\n",
    "        knownResults[change] = 1 #记录硬币种类对应零钱数的最优解\n",
    "        return 1\n",
    "    elif knownResults[change] > 0:\n",
    "        return knownResults[change] #返回已经记录的最优解硬币个数\n",
    "    else:\n",
    "        for i in [c for c in coinValueList if c <= change]: \n",
    "            numCoins = 1 + recDC(coinValueList, change - i, knownResults) \n",
    "            if numCoins < minCoins:\n",
    "                minCoins = numCoins \n",
    "                knownResults[change] = minCoins #更新找零对应的最小硬币个数\n",
    "    return minCoins"
   ]
  },
  {
   "cell_type": "code",
   "execution_count": 11,
   "metadata": {},
   "outputs": [
    {
     "output_type": "stream",
     "name": "stdout",
     "text": "24.993112\n3\n24.995501\n"
    }
   ],
   "source": [
    "#test\n",
    "print(time.clock())\n",
    "print(recDC([1,5,10,21,25], 63, [0]*64))\n",
    "print(time.clock())"
   ]
  },
  {
   "cell_type": "markdown",
   "metadata": {},
   "source": [
    "通过记录过程，可见整个运算时间变化非常明显\n",
    "这种技术被称为**记忆化/函数值缓存**(memoization)\n",
    "\n",
    "### 方案二：动态规划\n",
    "\n",
    "动态规划使用的必要条件：**问题的最优解包含了更小规模子问题的最优解**\n",
    "\n",
    "- 动态规划算法采用了**更有条理**的方式来求解\n",
    "- 在找零兑换问题上，动态规划会从**最简单**的1分钱找零开始，逐步增加找零数，直至我们需要求解的找零数\n",
    "- 在增加找零的过程中，设法保证每一分钱的增加都是最优解，这样在达到所求零钱数时，自然得到最优解\n",
    "\n"
   ]
  },
  {
   "cell_type": "code",
   "execution_count": 14,
   "metadata": {},
   "outputs": [],
   "source": [
    "def dpMakeChange(coinValueList, change, minCoins): #minCoins为记录从1到零钱数所有情况的最少硬币数\n",
    "    for cents in range(1, change+1): #从1分钱计算到找零需要的钱数\n",
    "        coinCount = cents\n",
    "        for j in [c for c in coinValueList if c <= cents]:\n",
    "            if minCoins[cents - j] + 1 < coinCount: #如果更小规模的最优解加上一枚硬币可以得到该找零额度的最优解\n",
    "                coinCount = minCoins[cents - j] + 1 #更新最优解\n",
    "        minCoins[cents] = coinCount #最优解记录到表格中\n",
    "    return minCoins[change] #返回要求找零数的结果"
   ]
  },
  {
   "cell_type": "code",
   "execution_count": 16,
   "metadata": {},
   "outputs": [
    {
     "output_type": "stream",
     "name": "stdout",
     "text": "28.038844\n3\n28.040853\n"
    }
   ],
   "source": [
    "#test\n",
    "print(time.clock())\n",
    "print(dpMakeChange([1,5,10,21,25], 63, [0]*64))\n",
    "print(time.clock())"
   ]
  },
  {
   "cell_type": "markdown",
   "metadata": {},
   "source": [
    "如果需要获得最优解的硬币组合，那么需要在最优解的表格中，记录每个零钱数相较于上一步增加的硬币类型"
   ]
  },
  {
   "cell_type": "code",
   "execution_count": 21,
   "metadata": {},
   "outputs": [],
   "source": [
    "def dpMakeChange2(coinValueList, change, minCoins, coinUsed): #增加表格记录每一步对应的硬币\n",
    "    for cents in range(1, change+1): \n",
    "        coinCount = cents\n",
    "        newCoin = 1 #初始化硬币面额\n",
    "        for j in [c for c in coinValueList if c <= cents]:\n",
    "            if minCoins[cents - j] + 1 < coinCount: \n",
    "                coinCount = minCoins[cents - j] + 1\n",
    "                newCoin = j #更新硬币面额\n",
    "        minCoins[cents] = coinCount\n",
    "        coinUsed[cents] = newCoin\n",
    "    return minCoins[change]\n",
    "\n",
    "def printCoins(coinsUsed, change): #建立函数打印出使用的硬币面额\n",
    "    coin = change\n",
    "    l = []\n",
    "    while coin > 0:\n",
    "        thisCoin = coinsUsed[coin]\n",
    "        l.append(thisCoin)\n",
    "        coin = coin - thisCoin\n",
    "    return l"
   ]
  },
  {
   "cell_type": "code",
   "execution_count": 22,
   "metadata": {},
   "outputs": [
    {
     "output_type": "stream",
     "name": "stdout",
     "text": "3\nThey are [21, 21, 21]\n"
    }
   ],
   "source": [
    "#test\n",
    "amnt = 63\n",
    "clist = [1, 5, 10, 21, 25]\n",
    "coinUsed = [0] * (amnt + 1)\n",
    "coinCount = [0] * (amnt + 1)\n",
    "\n",
    "print(dpMakeChange2(clist, amnt, coinCount, coinUsed))\n",
    "print(f\"They are {printCoins(coinUsed, amnt)}\")"
   ]
  },
  {
   "cell_type": "markdown",
   "metadata": {},
   "source": [
    "# 经典案例2：博物馆大盗\n",
    "假设大盗负重20公斤，博物馆内宝物价值和重量如下表\n",
    "\n",
    "| 编号 | 重量 | 价值 |\n",
    "|:--:|:--:|:--:|\n",
    "|1|2|3|\n",
    "|2|3|4|\n",
    "|3|4|8|\n",
    "|4|5|8|\n",
    "|5|9|10|\n",
    "\n",
    "可以将动态规划的解法描述如下：\n",
    "\n",
    "有函数m(i, W)，其表示为 前i(1<=i<=5)个宝物中，组合不超过W(1<=W<=20)重量，可以得到的最大价值\n",
    "- m(i, W)是m(i-1, W)和m(i-1, W-Wi)+vi两者的最大值\n",
    "- 从m(1,1)计算到m(5,20)\n",
    "- 当i=0或W=0时，m(i, W)=0\n",
    "- 当Wi > W时，m(i, W)=m(i-1, W)\n",
    "\n"
   ]
  },
  {
   "cell_type": "code",
   "execution_count": null,
   "metadata": {},
   "outputs": [],
   "source": []
  }
 ]
}