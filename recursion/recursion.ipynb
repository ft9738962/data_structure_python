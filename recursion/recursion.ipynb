{
 "nbformat": 4,
 "nbformat_minor": 2,
 "metadata": {
  "language_info": {
   "name": "python",
   "codemirror_mode": {
    "name": "ipython",
    "version": 3
   },
   "version": "3.7.3-final"
  },
  "orig_nbformat": 2,
  "file_extension": ".py",
  "mimetype": "text/x-python",
  "name": "python",
  "npconvert_exporter": "python",
  "pygments_lexer": "ipython3",
  "version": 3,
  "kernelspec": {
   "name": "python3",
   "display_name": "Python 3"
  }
 },
 "cells": [
  {
   "cell_type": "markdown",
   "metadata": {},
   "source": [
    "# 递归\n",
    "\n",
    "### 递归是什么\n",
    "- 递归是一种解决问题的方法\n",
    "- 将问题分解为规模更小的相同问题\n",
    "- 持续分解，直到问题规模小道可以用非常简单直接的方式解决\n",
    "- 算法方面显著的特征就是在算法流程中调用自身\n",
    "\n",
    "### 递归的法则\n",
    "1. 递归算法必须有一个基本结束条件（最小规模问题的直接解决）\n",
    "2. 递归算法必须能改变状态项基本结束条件演进（减小问题规模）\n",
    "3. 递归算法必须调用自身（解决减小了规模的相同问题）"
   ]
  },
  {
   "cell_type": "markdown",
   "metadata": {},
   "source": [
    "### 递归的应用1：任意进制转换"
   ]
  },
  {
   "cell_type": "code",
   "execution_count": 2,
   "metadata": {},
   "outputs": [],
   "source": [
    "def toStr(n, base):\n",
    "    convertString = \"0123456789ABCDEF\"\n",
    "    if n < base:\n",
    "        return convertString[n] #最小规模问题解法\n",
    "    else:\n",
    "        return toStr(n//base, base) + convertString[n%base] #调用自身缩小问题并加上该位余数"
   ]
  },
  {
   "cell_type": "code",
   "execution_count": 3,
   "metadata": {},
   "outputs": [
    {
     "output_type": "stream",
     "name": "stdout",
     "text": "5AD\n"
    }
   ],
   "source": [
    "print(toStr(1453, 16))"
   ]
  },
  {
   "cell_type": "markdown",
   "metadata": {},
   "source": [
    "### 递归的实现：\n",
    "当一个函数被调用的时候，系统会把调用时的现场数据压入到系统调用栈\n",
    "- 每次调用，压入栈的现场数据称为栈帧\n",
    "- 当函数返回时，要从调用栈的栈顶取得返回地址，恢复现场，弹出栈帧，按地址返回\n",
    "\n",
    "在调试递归算法程序的时候经常会碰到错误：RecursionError\n",
    "\n",
    "这是说明递归的层数太多，系统调用栈容量有限，可以通过sys模块获取和调整最大递归深度"
   ]
  },
  {
   "cell_type": "code",
   "execution_count": 5,
   "metadata": {},
   "outputs": [
    {
     "output_type": "execute_result",
     "data": {
      "text/plain": "3000"
     },
     "metadata": {},
     "execution_count": 5
    }
   ],
   "source": [
    "import sys\n",
    "sys.getrecursionlimit() #获取递归深度"
   ]
  },
  {
   "cell_type": "code",
   "execution_count": 6,
   "metadata": {},
   "outputs": [
    {
     "output_type": "execute_result",
     "data": {
      "text/plain": "3500"
     },
     "metadata": {},
     "execution_count": 6
    }
   ],
   "source": [
    "sys.setrecursionlimit(3500) #调整递归深度\n",
    "sys.getrecursionlimit()"
   ]
  },
  {
   "cell_type": "code",
   "execution_count": 3,
   "metadata": {},
   "outputs": [],
   "source": [
    "#使用turtle模块来可视化递归\n",
    "import turtle\n",
    "\n",
    "def drawSpiral(t, lineLen): #画螺旋线\n",
    "    if lineLen > 0:\n",
    "        t.forward(lineLen)\n",
    "        t.right(90)\n",
    "        drawSpiral(t, lineLen - 5)"
   ]
  },
  {
   "cell_type": "code",
   "execution_count": 4,
   "metadata": {},
   "outputs": [],
   "source": [
    "t = turtle.Turtle()\n",
    "drawSpiral(t, 100)\n",
    "turtle.done()"
   ]
  },
  {
   "cell_type": "markdown",
   "metadata": {},
   "source": [
    "### 递归的应用2：分形学\n",
    "绘制分形树，该部分内容代码放在tree.py中\n",
    "\n",
    "\n",
    "谢尔宾斯基三角形，该部分内容代码放在sierpinski.py中\n",
    "\n",
    "### 递归的应用3：汉诺塔\n",
    "解题思路，对于N层塔片的汉诺塔问题 ：\n",
    "- 首先将上层N-1个盘片，从开始柱，经由目标柱，移动到中间柱（递归）\n",
    "- 将第N个盘片，从开始组，移动到目标柱\n",
    "- 最后将中间柱的N-1个盘片，经开始柱，移动到目标柱（递归）\n",
    "- 结束条件是只剩一个盘片的移动问题"
   ]
  },
  {
   "cell_type": "code",
   "execution_count": 17,
   "metadata": {},
   "outputs": [],
   "source": [
    "def moveTower(height, fromPole, withPole, toPole):\n",
    "    if height >= 1:\n",
    "        moveTower(height - 1, fromPole, toPole, withPole) #把N-1个盘片经由目标柱移动到中间柱的递归\n",
    "        moveDisk(height, fromPole, toPole)\n",
    "        moveTower(height - 1, withPole, fromPole, toPole) #把N-1个盘片经由开始柱移动到目标柱的递归\n",
    "\n",
    "def moveDisk(disk, fromPole, toPole):\n",
    "    print(f'移动碟片{disk} from {fromPole} to {toPole}')"
   ]
  },
  {
   "cell_type": "code",
   "execution_count": 18,
   "metadata": {},
   "outputs": [
    {
     "output_type": "stream",
     "name": "stdout",
     "text": "移动碟片1 from #1 to #2\n移动碟片2 from #1 to #3\n移动碟片1 from #2 to #3\n移动碟片3 from #1 to #2\n移动碟片1 from #3 to #1\n移动碟片2 from #3 to #2\n移动碟片1 from #1 to #2\n移动碟片4 from #1 to #3\n移动碟片1 from #2 to #3\n移动碟片2 from #2 to #1\n移动碟片1 from #3 to #1\n移动碟片3 from #2 to #3\n移动碟片1 from #1 to #2\n移动碟片2 from #1 to #3\n移动碟片1 from #2 to #3\n"
    }
   ],
   "source": [
    "moveTower(4, '#1', '#2', '#3')"
   ]
  },
  {
   "cell_type": "markdown",
   "metadata": {},
   "source": [
    "### 递归的应用4：迷宫\n",
    "采用矩阵方式来实现迷宫数据结构，实现代码在maze.py中\n",
    "\n",
    "海龟探索迷宫的思路：\n",
    "- 将海龟从原位置**向北**移一步，以**新位置**递归调用探索迷宫寻找出口\n",
    "- 如果上面步骤找不到出口，那么将海龟从原位置**向南**移动一步，以**新位置**递归调用探索迷宫\n",
    "- 如果向南找不到出口，将海龟从原位置**向西**一步，以**新位置**递归调用探索迷宫\n",
    "- 如果向西找不到出口，将海龟从原位置**向东**移动一步，以新位置递归调用探索迷宫\n",
    "\n",
    "以上思路的问题是，如果海龟北面两步是墙，那么海龟在遇到墙后就会向南回退一步，回到原点，继而陷入了无限递归的死循环\n",
    "- 因此需要有机制记录海龟走过的路径\n",
    "- 沿途撒“面包屑”，如果前进方向发现“面包屑”，就不能再踩上去，必须换下一个方向尝试\n",
    "- 对于递归调用来说，就是某方向的方格上发现“面包屑”，就立即从递归调用**返回上一级**\n",
    "\n",
    "因此将该递归的结束条件，总结如下：\n",
    "- 碰到“墙壁”方格，递归调用结束，返回失败\n",
    "- 碰到“面包屑”方格，表示此方格已经访问过，递归调用结束，返回失败\n",
    "- 在四个方向上探索都失败，递归调用结束，返回失败\n",
    "- 碰到“出口”方格，递归调用结束，返回成功"
   ]
  },
  {
   "cell_type": "markdown",
   "metadata": {},
   "source": [
    "### 递归的应用5：分治策略\n",
    "\n",
    "分治策略的步骤\n",
    "- 将问题分为若干更小规模的部分\n",
    "- 通过解决每一个小规模部分问题，并将结果汇总得到原问题的解\n",
    "\n",
    "分治策略的应用场景\n",
    "1. 排序\n",
    "2. 查找\n",
    "3. 遍历\n",
    "4. 求值\n",
    "5. 等等\n",
    "\n",
    "### 递归的应用6：八皇后问题\n",
    "\n",
    "在 8×8 格的国际象棋上摆放八个皇后，使其不能互相攻击，即任意两个皇后都不能处于同一行、同一列或同一斜线上，问有多少种摆法"
   ]
  },
  {
   "cell_type": "code",
   "execution_count": 1,
   "metadata": {},
   "outputs": [],
   "source": [
    "def queen(A, cur=0):\n",
    "    if cur == len(A):\n",
    "        print(A)\n",
    "        return 0\n",
    "    for col in range(len(A)):\n",
    "        A[cur], flag = col, True\n",
    "        for row in range(cur):\n",
    "            if A[row] == col or abs(col - A[row]) == cur - row:\n",
    "                flag = False\n",
    "                break\n",
    "        if flag:\n",
    "            queen(A, cur+1)"
   ]
  },
  {
   "cell_type": "code",
   "execution_count": 2,
   "metadata": {},
   "outputs": [
    {
     "output_type": "stream",
     "name": "stdout",
     "text": "[0, 4, 7, 5, 2, 6, 1, 3]\n[0, 5, 7, 2, 6, 3, 1, 4]\n[0, 6, 3, 5, 7, 1, 4, 2]\n[0, 6, 4, 7, 1, 3, 5, 2]\n[1, 3, 5, 7, 2, 0, 6, 4]\n[1, 4, 6, 0, 2, 7, 5, 3]\n[1, 4, 6, 3, 0, 7, 5, 2]\n[1, 5, 0, 6, 3, 7, 2, 4]\n[1, 5, 7, 2, 0, 3, 6, 4]\n[1, 6, 2, 5, 7, 4, 0, 3]\n[1, 6, 4, 7, 0, 3, 5, 2]\n[1, 7, 5, 0, 2, 4, 6, 3]\n[2, 0, 6, 4, 7, 1, 3, 5]\n[2, 4, 1, 7, 0, 6, 3, 5]\n[2, 4, 1, 7, 5, 3, 6, 0]\n[2, 4, 6, 0, 3, 1, 7, 5]\n[2, 4, 7, 3, 0, 6, 1, 5]\n[2, 5, 1, 4, 7, 0, 6, 3]\n[2, 5, 1, 6, 0, 3, 7, 4]\n[2, 5, 1, 6, 4, 0, 7, 3]\n[2, 5, 3, 0, 7, 4, 6, 1]\n[2, 5, 3, 1, 7, 4, 6, 0]\n[2, 5, 7, 0, 3, 6, 4, 1]\n[2, 5, 7, 0, 4, 6, 1, 3]\n[2, 5, 7, 1, 3, 0, 6, 4]\n[2, 6, 1, 7, 4, 0, 3, 5]\n[2, 6, 1, 7, 5, 3, 0, 4]\n[2, 7, 3, 6, 0, 5, 1, 4]\n[3, 0, 4, 7, 1, 6, 2, 5]\n[3, 0, 4, 7, 5, 2, 6, 1]\n[3, 1, 4, 7, 5, 0, 2, 6]\n[3, 1, 6, 2, 5, 7, 0, 4]\n[3, 1, 6, 2, 5, 7, 4, 0]\n[3, 1, 6, 4, 0, 7, 5, 2]\n[3, 1, 7, 4, 6, 0, 2, 5]\n[3, 1, 7, 5, 0, 2, 4, 6]\n[3, 5, 0, 4, 1, 7, 2, 6]\n[3, 5, 7, 1, 6, 0, 2, 4]\n[3, 5, 7, 2, 0, 6, 4, 1]\n[3, 6, 0, 7, 4, 1, 5, 2]\n[3, 6, 2, 7, 1, 4, 0, 5]\n[3, 6, 4, 1, 5, 0, 2, 7]\n[3, 6, 4, 2, 0, 5, 7, 1]\n[3, 7, 0, 2, 5, 1, 6, 4]\n[3, 7, 0, 4, 6, 1, 5, 2]\n[3, 7, 4, 2, 0, 6, 1, 5]\n[4, 0, 3, 5, 7, 1, 6, 2]\n[4, 0, 7, 3, 1, 6, 2, 5]\n[4, 0, 7, 5, 2, 6, 1, 3]\n[4, 1, 3, 5, 7, 2, 0, 6]\n[4, 1, 3, 6, 2, 7, 5, 0]\n[4, 1, 5, 0, 6, 3, 7, 2]\n[4, 1, 7, 0, 3, 6, 2, 5]\n[4, 2, 0, 5, 7, 1, 3, 6]\n[4, 2, 0, 6, 1, 7, 5, 3]\n[4, 2, 7, 3, 6, 0, 5, 1]\n[4, 6, 0, 2, 7, 5, 3, 1]\n[4, 6, 0, 3, 1, 7, 5, 2]\n[4, 6, 1, 3, 7, 0, 2, 5]\n[4, 6, 1, 5, 2, 0, 3, 7]\n[4, 6, 1, 5, 2, 0, 7, 3]\n[4, 6, 3, 0, 2, 7, 5, 1]\n[4, 7, 3, 0, 2, 5, 1, 6]\n[4, 7, 3, 0, 6, 1, 5, 2]\n[5, 0, 4, 1, 7, 2, 6, 3]\n[5, 1, 6, 0, 2, 4, 7, 3]\n[5, 1, 6, 0, 3, 7, 4, 2]\n[5, 2, 0, 6, 4, 7, 1, 3]\n[5, 2, 0, 7, 3, 1, 6, 4]\n[5, 2, 0, 7, 4, 1, 3, 6]\n[5, 2, 4, 6, 0, 3, 1, 7]\n[5, 2, 4, 7, 0, 3, 1, 6]\n[5, 2, 6, 1, 3, 7, 0, 4]\n[5, 2, 6, 1, 7, 4, 0, 3]\n[5, 2, 6, 3, 0, 7, 1, 4]\n[5, 3, 0, 4, 7, 1, 6, 2]\n[5, 3, 1, 7, 4, 6, 0, 2]\n[5, 3, 6, 0, 2, 4, 1, 7]\n[5, 3, 6, 0, 7, 1, 4, 2]\n[5, 7, 1, 3, 0, 6, 4, 2]\n[6, 0, 2, 7, 5, 3, 1, 4]\n[6, 1, 3, 0, 7, 4, 2, 5]\n[6, 1, 5, 2, 0, 3, 7, 4]\n[6, 2, 0, 5, 7, 4, 1, 3]\n[6, 2, 7, 1, 4, 0, 5, 3]\n[6, 3, 1, 4, 7, 0, 2, 5]\n[6, 3, 1, 7, 5, 0, 2, 4]\n[6, 4, 2, 0, 5, 7, 1, 3]\n[7, 1, 3, 0, 6, 4, 2, 5]\n[7, 1, 4, 2, 0, 6, 3, 5]\n[7, 2, 0, 5, 1, 4, 6, 3]\n[7, 3, 0, 2, 5, 1, 6, 4]\n"
    }
   ],
   "source": [
    "#test\n",
    "queen([None]*8)"
   ]
  },
  {
   "cell_type": "code",
   "execution_count": null,
   "metadata": {},
   "outputs": [],
   "source": []
  }
 ]
}