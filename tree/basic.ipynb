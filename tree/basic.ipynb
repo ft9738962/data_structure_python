{
 "nbformat": 4,
 "nbformat_minor": 2,
 "metadata": {
  "language_info": {
   "name": "python",
   "codemirror_mode": {
    "name": "ipython",
    "version": 3
   },
   "version": "3.7.3-final"
  },
  "orig_nbformat": 2,
  "file_extension": ".py",
  "mimetype": "text/x-python",
  "name": "python",
  "npconvert_exporter": "python",
  "pygments_lexer": "ipython3",
  "version": 3,
  "kernelspec": {
   "name": "python3",
   "display_name": "Python 3"
  }
 },
 "cells": [
  {
   "cell_type": "markdown",
   "metadata": {},
   "source": [
    "### 树结构的术语\n",
    "\n",
    "- 节点 node：保存数值\n",
    "    - 子节点 children：入边都来自同一节点的节点，被称为这个节点的子节点\n",
    "    - 父节点 parent：一个节点是所有其出边节点的父节点\n",
    "    - 兄弟节点 sibling：拥有同一个父节点的节点，互为兄弟节点\n",
    "    - 叶节点 leaf：没有子节点的节点\n",
    "- 边 edge：连接两个节点，表示节点之间的关系，有出入方向；每个节点可以有多个边\n",
    "- 根 root：树中唯一没有入边的节点\n",
    "- 路径 path：由边连接起来的节点的列表\n",
    "- 子树 subtree：一个节点和其所有子孙节点，构成一个子树\n",
    "- 层级 level：从根到这个节点经过的边的数量，就称为这个节点的层级\n",
    "- 高度 height：一棵树所有节点的最大层级，被称为这棵树的高度\n",
    "- 二叉树 binary tree：每个节点最多只有2个子节点的树"
   ]
  },
  {
   "cell_type": "markdown",
   "metadata": {},
   "source": [
    "**用嵌套列表来实现二叉树**\n",
    "```\n",
    "[root, left, right]\n",
    "```\n",
    "BinaryTree来创建一颗二叉树\n",
    "\n",
    "insertRight/insertLeft 将节点插入树\n",
    "\n",
    "get/setRootVal 获取或设置根节点\n",
    "\n",
    "getLeft/RightChild 来获取左/右子树\n"
   ]
  },
  {
   "cell_type": "code",
   "execution_count": 3,
   "metadata": {},
   "outputs": [],
   "source": [
    "def BinaryTree(r):\n",
    "    return [r, [], []]\n",
    "\n",
    "def insertLeft(root, newBranch):\n",
    "    t = root.pop(1)\n",
    "    if len(t) > 1:\n",
    "        root.insert(1, [newBranch, t, []])\n",
    "    else:\n",
    "        root.insert(1, [newBranch, [], []])\n",
    "    return root\n",
    "\n",
    "def insertRight(root, newBranch):\n",
    "    t = root.pop(2)\n",
    "    if len(t) > 1:\n",
    "        root.insert(2, [newBranch, [], t])\n",
    "    else:\n",
    "        root.insert(2, [newBranch, [], []])\n",
    "    return root\n",
    "\n",
    "def getRootVal(root):\n",
    "    return root[0]\n",
    "\n",
    "def setRootVal(root, newVal):\n",
    "    root[0] = newVal\n",
    "\n",
    "def getLeftChild(root):\n",
    "    return root[1]\n",
    "\n",
    "def getRightChild(root):\n",
    "    return root[2]"
   ]
  },
  {
   "cell_type": "code",
   "execution_count": 5,
   "metadata": {},
   "outputs": [
    {
     "output_type": "stream",
     "name": "stdout",
     "text": "[5, [4, [], []], []]\n[3, [9, [4, [], []], []], [7, [], [6, [], []]]]\n[3, [9, [11, [4, [], []], []], []], [7, [], [6, [], []]]]\n[6, [], []]\n"
    }
   ],
   "source": [
    "#test\n",
    "r = BinaryTree(3)\n",
    "insertLeft(r, 4)\n",
    "insertLeft(r, 5)\n",
    "insertRight(r, 6)\n",
    "insertRight(r, 7)\n",
    "l = getLeftChild(r)\n",
    "print(l)\n",
    "\n",
    "setRootVal(l, 9)\n",
    "print(r)\n",
    "insertLeft(l, 11)\n",
    "print(r)\n",
    "print(getRightChild(getRightChild(r)))"
   ]
  },
  {
   "cell_type": "markdown",
   "metadata": {},
   "source": [
    "**用链表实现二叉树**\n",
    "\n",
    "每个节点保存数据和指向左右子节点的链接"
   ]
  },
  {
   "cell_type": "code",
   "execution_count": 21,
   "metadata": {},
   "outputs": [],
   "source": [
    "class BinaryTree2:\n",
    "    def __init__(self, rootObj):\n",
    "        self.key = rootObj\n",
    "        self.leftChild = None\n",
    "        self.rightChild = None\n",
    "\n",
    "    def insertLeft(self, newNode):\n",
    "        if self.leftChild == None:\n",
    "            self.leftChild = BinaryTree2(newNode)\n",
    "        else:\n",
    "            t = BinaryTree2(newNode)\n",
    "            t.leftChild = self.leftChild\n",
    "            self.leftChild = t\n",
    "\n",
    "    def insertRight(self, newNode):\n",
    "        if self.rightChild == None:\n",
    "            self.rightChild = BinaryTree2(newNode)\n",
    "        else:\n",
    "            t = BinaryTree2(newNode)\n",
    "            t.rightChild = self.rightChild\n",
    "            self.rightChild = t\n",
    "\n",
    "    def setRootVal(self, val):\n",
    "        self.key = val\n",
    "\n",
    "    def getRootVal(self):\n",
    "        return self.key\n",
    "\n",
    "    def getLeftChild(self):\n",
    "        return self.leftChild\n",
    "\n",
    "    def getRightChild(self):\n",
    "        return self.rightChild"
   ]
  },
  {
   "cell_type": "markdown",
   "metadata": {},
   "source": [
    "### 树的应用\n",
    "\n",
    "1. 解析树（语法树）\n",
    "2. 表达式解析：叶节点保存操作数，内部节点保存操作符\n",
    "\n",
    "表达式解析的建立：\n",
    "- 将公式拆解成token\n",
    "- 创建空树，当前节点为根节点\n",
    "- 读取到左括号，就创建左子节点，当前节点下降到该节点\n",
    "- 读取到操作数，就将该节点设置为该操作数，当前节点上升到父节点\n",
    "- 读取到操作符，当前节点设置为操作符，创建右节点，当前节点下降\n",
    "- 读取到另一个操作数，当前节点设置为该操作数，上升到父节点\n",
    "- 读取到右括号，上升到父节点\n",
    "- 目前二叉树的方法可以设置节点的数据和下降到子节点，但是没有专门的上升到父节点的方法，因此可以用一个栈来记录跟踪父节点\n"
   ]
  },
  {
   "cell_type": "code",
   "execution_count": 22,
   "metadata": {},
   "outputs": [],
   "source": [
    "#借用之前的stack类来辅助实现\n",
    "class Stack:\n",
    "    def __init__(self):\n",
    "        self.items = []\n",
    "\n",
    "    def isEmpty(self):\n",
    "        return self.items == []\n",
    "\n",
    "    def push(self, item):\n",
    "        self.items.append(item)\n",
    "\n",
    "    def pop(self):\n",
    "        return self.items.pop()\n",
    "\n",
    "    def peek(self):\n",
    "        return self.items[len(self.items) - 1]\n",
    "\n",
    "    def size(self):\n",
    "        return len(self.items)"
   ]
  },
  {
   "cell_type": "code",
   "execution_count": 23,
   "metadata": {},
   "outputs": [],
   "source": [
    "#code\n",
    "def buildParseTree(fpexp):\n",
    "    fplist = fpexp.split()\n",
    "    pStack = Stack()\n",
    "    eTree = BinaryTree2('')\n",
    "    pStack.push(eTree)\n",
    "    currentTree = eTree\n",
    "    for i in fplist:\n",
    "        if i == '(':\n",
    "            currentTree.insertLeft('')\n",
    "            pStack.push(currentTree) #下降前将节点推入栈\n",
    "            currentTree = currentTree.getLeftChild() #将当前节点设为子节点\n",
    "        elif i not in ['+', '-', '*', '/', ')']:\n",
    "            currentTree.setRootVal(int(i))\n",
    "            parent = pStack.pop() #弹出父节点\n",
    "            currentTree = parent\n",
    "        elif i in ['+', '-', '*', '/']:\n",
    "            currentTree.setRootVal(i)\n",
    "            currentTree.insertRight('')\n",
    "            pStack.push(currentTree)\n",
    "            currentTree = currentTree.getRightChild()\n",
    "        elif i == ')':\n",
    "            currentTree = pStack.pop() #出栈上升\n",
    "        else:\n",
    "            raise ValueError\n",
    "    return eTree"
   ]
  },
  {
   "cell_type": "markdown",
   "metadata": {},
   "source": [
    "** 利用表达式解析树求值**\n",
    "\n",
    "可以用递归算法来处理"
   ]
  },
  {
   "cell_type": "code",
   "execution_count": 24,
   "metadata": {},
   "outputs": [],
   "source": [
    "#这里使用operator模块来简化求值部分的代码\n",
    "import operator\n",
    "def evaluate(parseTree):\n",
    "    opers = {'+': operator.add, '-': operator.sub, '*': operator.mul, '/': operator.truediv}\n",
    "\n",
    "    leftC = parseTree.getLeftChild()\n",
    "    rightC = parseTree.getRightChild()\n",
    "\n",
    "    if leftC and rightC:\n",
    "        fn = opers[parseTree.getRootVal()]\n",
    "        return fn(evaluate(leftC), evaluate(rightC))\n",
    "    else:\n",
    "        return parseTree.getRootVal()"
   ]
  },
  {
   "cell_type": "code",
   "execution_count": 25,
   "metadata": {},
   "outputs": [],
   "source": [
    "#test\n",
    "gs = '(  5 * ( 3 + 4 ) )'\n",
    "pt = buildParseTree(gs)\n",
    "e = evaluate(pt)"
   ]
  },
  {
   "cell_type": "code",
   "execution_count": 21,
   "metadata": {},
   "outputs": [
    {
     "output_type": "stream",
     "name": "stdout",
     "text": "*\n5\n+\n4\n35\n"
    }
   ],
   "source": [
    "print(pt.getRootVal())\n",
    "l = pt.getLeftChild()\n",
    "print(l.getRootVal())\n",
    "r = pt.getRightChild()\n",
    "print(r.getRootVal())\n",
    "print(r.getRightChild().getRootVal())\n",
    "print(e)"
   ]
  },
  {
   "cell_type": "markdown",
   "metadata": {},
   "source": [
    "### 树的遍历\n",
    "\n",
    "- 对一个数据几种的所有数据项进行访问的操作称为“遍历”\n",
    "- 线性数据结构中，对其所有数据项的访问比较简单直接（按照顺序依次访问即可）\n",
    "- 树的非线性特点，使得遍历操作较为复杂\n",
    "\n",
    "树的遍历按照对节点访问次序的不同来区分3种遍历：\n",
    "\n",
    "-  前序遍历 preorder：先访问**根**节点，在递归的前序访问**左子树**、最后访问**右子树**\n",
    "- 中序遍历 inorder：先递归地中序访问**左子树**，再访问**根**节点，最后中序访问**右子树**\n",
    "- 后序遍历 postorder：先递归地后序访问**左子树**，再后序访问**右子树**，最后访问根节点"
   ]
  },
  {
   "cell_type": "code",
   "execution_count": 1,
   "metadata": {},
   "outputs": [],
   "source": [
    "#code 树的遍历代码非常的简洁\n",
    "def preorder(tree):\n",
    "    if tree:\n",
    "        print(tree.getRootVal())\n",
    "        preorder(tree.getLeftChild())\n",
    "        preorder(tree.getRightChild())\n",
    "\n",
    "def postorder(tree):\n",
    "    if tree:\n",
    "        postorder(tree.getLeftChild())\n",
    "        postorder(tree.getRightChild())\n",
    "        print(tree.getRootVal())\n",
    "\n",
    "def inorder(tree):\n",
    "    if tree:\n",
    "        inorder(tree.getLeftChild())\n",
    "        print(tree.getRootVal())\n",
    "        inorder(tree.getRightChild())"
   ]
  },
  {
   "cell_type": "code",
   "execution_count": 2,
   "metadata": {},
   "outputs": [],
   "source": [
    "#也可以在BinaryTree类中实现preorder\n",
    "class BinaryTree3:\n",
    "    def __init__(self, rootObj):\n",
    "        self.key = rootObj\n",
    "        self.leftChild = None\n",
    "        self.rightChild = None\n",
    "\n",
    "    def insertLeft(self, newNode):\n",
    "        if self.leftChild == None:\n",
    "            self.leftChild = BinaryTree3(newNode)\n",
    "        else:\n",
    "            t = BinaryTree3(newNode)\n",
    "            t.leftChild = self.leftChild\n",
    "            self.leftChild = t\n",
    "\n",
    "    def insertRight(self, newNode):\n",
    "        if self.rightChild == None:\n",
    "            self.rightChild = BinaryTree3(newNode)\n",
    "        else:\n",
    "            t = BinaryTree3(newNode)\n",
    "            t.rightChild = self.rightChild\n",
    "            self.rightChild = t\n",
    "\n",
    "    def setRootVal(self, val):\n",
    "        self.key = val\n",
    "\n",
    "    def getRootVal(self):\n",
    "        return self.key\n",
    "\n",
    "    def getLeftChild(self):\n",
    "        return self.leftChild\n",
    "\n",
    "    def getRightChild(self):\n",
    "        return self.rightChild\n",
    "\n",
    "    def preorder(self):\n",
    "        print(self.key)\n",
    "        if self.leftChild:\n",
    "            self.leftChild.preorder()\n",
    "        if self.rightChild:\n",
    "            self.rightChild.preorder()"
   ]
  },
  {
   "cell_type": "markdown",
   "metadata": {},
   "source": [
    "之前的表达式解析树求值，其实就是一种后序遍历，可以采用后序遍历重写"
   ]
  },
  {
   "cell_type": "code",
   "execution_count": 26,
   "metadata": {},
   "outputs": [],
   "source": [
    "#code\n",
    "def postordereval(tree):\n",
    "        opers = {'+': operator.add, '-': operator.sub, '*': operator.mul, '/': operator.truediv}\n",
    "        res1 = None\n",
    "        res2 = None\n",
    "        if tree:\n",
    "            res1 = postordereval(tree.getLeftChild())\n",
    "            res2 = postordereval(tree.getRightChild())\n",
    "            if res1 and res2:\n",
    "                return opers[tree.getRootVal()](res1, res2)\n",
    "            else:\n",
    "                return tree.getRootVal()"
   ]
  },
  {
   "cell_type": "code",
   "execution_count": 28,
   "metadata": {},
   "outputs": [
    {
     "output_type": "stream",
     "name": "stdout",
     "text": "35\n"
    }
   ],
   "source": [
    "#test\n",
    "print(postordereval(pt))"
   ]
  },
  {
   "cell_type": "markdown",
   "metadata": {},
   "source": [
    "还可以用中序遍历递归算法来生成全括号中缀表达式"
   ]
  },
  {
   "cell_type": "code",
   "execution_count": 29,
   "metadata": {},
   "outputs": [],
   "source": [
    "def printexp(tree):\n",
    "    sVal = ''\n",
    "    if tree:\n",
    "        sVal = '(' + printexp(tree.getLeftChild())\n",
    "        sVal = sVal + str(tree.getRootVal())\n",
    "        sVal = sVal + printexp(tree.getRightChild()) + ')'\n",
    "    return sVal"
   ]
  },
  {
   "cell_type": "code",
   "execution_count": 30,
   "metadata": {},
   "outputs": [
    {
     "output_type": "stream",
     "name": "stdout",
     "text": "((5)*((3)+(4)))\n"
    }
   ],
   "source": [
    "#test\n",
    "print(printexp(pt))"
   ]
  },
  {
   "cell_type": "code",
   "execution_count": null,
   "metadata": {},
   "outputs": [],
   "source": []
  }
 ]
}