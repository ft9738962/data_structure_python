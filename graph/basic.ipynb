{
 "cells": [
  {
   "cell_type": "markdown",
   "metadata": {},
   "source": [
    "### 图 Graph\n",
    "指使用**基本元素**构造出来的图形，如点、线段等\n",
    "\n",
    "<hr/>\n",
    "\n",
    "### 图的术语\n",
    "#### 顶点Vertex（也称节点Node）\n",
    "图的基本组成部分，顶点具有名称标识Key，也可以携带数据项payload\n",
    "\n",
    "#### 边Edge（也称弧Arc）\n",
    "作为2个顶点之间关系的表示，边连接两个顶点：边可以是有向或者无向的，相应的图称作为“有向图”或“无向图”\n",
    "\n",
    "####  权重Weight\n",
    "为了表达从一个顶点到另一个顶点的“代价”，可以给边赋权\n",
    "\n",
    "#### 路径Path\n",
    "由边依次连接起来的顶点序列；无权路径的长度是边的数量，带权路径的长度是所有边权重的和\n",
    "\n",
    "#### 圈Cycle\n",
    "圈是首尾顶点相同的路径\n",
    "\n",
    "如果有向图中不存在任何圈，称作“有向无圈图 directed acyclic graph: DAG”\n",
    "\n",
    "<hr/>\n",
    "\n",
    "### 图的定义\n",
    "\n",
    "#### 一个图G可以定义为G=(V, E)\n",
    "其中V是顶点的集合，E是边的集合，E中的每条边e=(v, w)，v和w是V中的顶点；\n",
    "\n",
    "如果是赋权图，则可以在e中天剑权重分量子图：V和E的子集"
   ]
  },
  {
   "cell_type": "markdown",
   "metadata": {},
   "source": [
    "###  抽象数据类型：ADT Graph\n",
    "\n",
    "### 定义\n",
    "- Graph(): 创建一个空的图\n",
    "- addVertex(vert): 将顶点vert加入图中\n",
    "- addEdge(fromVert, toVert): 添加有向边\n",
    "- addEdge(fromVert, toVert, weight): 添加带权的有向边\n",
    "- getVertex(vKey): 查找名称为vKey的顶点\n",
    "- getVertices():  返回图中所有顶点列表\n",
    "- in: 按照vert in graph的语句形式，返回顶点是否存在图中的布尔值\n",
    "\n",
    "### 实现方法\n",
    "1. 邻接矩阵 adjacency matrix\n",
    "2. 邻接表 adjacency list\n",
    "\n",
    "两种方法各有优劣，需要在不同应用中加以选择\n",
    "\n"
   ]
  },
  {
   "cell_type": "markdown",
   "metadata": {},
   "source": [
    "### 邻接矩阵\n",
    "- 矩阵的每行和每列都代表图中的顶点\n",
    "- 如果两个顶点之间有边相连，设定行列值\n",
    "    - 无权边则将矩阵分量标注为1，或者0\n",
    "    - 带权边则将权重保存为矩阵分量值\n",
    "\n",
    "||v0|v1|v2|v3|v4|v5|\n",
    "|:-:|:-:|:-:|:-:|:-:|:-:|:-:|\n",
    "|v0||5||||2|\n",
    "|v1|||4||||\n",
    "|v2||||9|||\n",
    "|v3|||||7|3|\n",
    "|v4|1||||||\n",
    "|v5|||1||8||\n",
    "\n",
    "- 优点：可以很容易得到顶点是如何相连\n",
    "- 缺点：\n",
    "    1. 称为“稀疏sparse”矩阵\n",
    "    2. 大多数问题对应的图都是稀疏的，边远远少于$|v|^2$这个量级"
   ]
  },
  {
   "cell_type": "markdown",
   "metadata": {},
   "source": [
    "### 邻接列表\n",
    "邻接列表可以称为稀疏图的更高效的实现方案\n",
    "\n",
    "- 维护一个包含所有顶点的主列表(master list)\n",
    "- 主列表中的每个顶点，再关联一个与自身有边连接的所有顶点的列表\n",
    "\n",
    "优点：存储空间紧凑高效，很容易获得顶点所连接的所有顶点，以及连接边的信息"
   ]
  },
  {
   "cell_type": "code",
   "execution_count": null,
   "metadata": {},
   "outputs": [],
   "source": []
  }
 ],
 "metadata": {
  "language_info": {
   "codemirror_mode": {
    "name": "ipython",
    "version": 3
   },
   "file_extension": ".py",
   "mimetype": "text/x-python",
   "name": "python",
   "nbconvert_exporter": "python",
   "pygments_lexer": "ipython3",
   "version": 3
  },
  "orig_nbformat": 2
 },
 "nbformat": 4,
 "nbformat_minor": 2
}