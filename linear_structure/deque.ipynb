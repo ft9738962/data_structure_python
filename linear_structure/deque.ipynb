{
 "nbformat": 4,
 "nbformat_minor": 2,
 "metadata": {
  "language_info": {
   "name": "python",
   "codemirror_mode": {
    "name": "ipython",
    "version": 3
   }
  },
  "orig_nbformat": 2,
  "file_extension": ".py",
  "mimetype": "text/x-python",
  "name": "python",
  "npconvert_exporter": "python",
  "pygments_lexer": "ipython3",
  "version": 3
 },
 "cells": [
  {
   "cell_type": "markdown",
   "metadata": {},
   "source": [
    "双端队列特性：\n",
    "- 跟队列相似，其双端可称为首、尾端\n",
    "- 在双端队列中，既可以从队首加入，也可以从队尾加入，数据项可以从两端移除\n",
    "- 从某种意义上说，双端队列继承了栈和队列的能力\n",
    "- 双端队列并不具有内在LIFO或者FIFO特性，需要使用者自行维护特性\n",
    "\n",
    "双端队列操作：\n",
    "- Deque()创建空双端队列\n",
    "- addFront(item) 将item加入队首\n",
    "- addRear(item) 将item加入对尾\n",
    "- removeFront() 从队首移除数据项，返回值为移除的数据项\n",
    "- removeRear() 从对尾移除数据项，返回值为移除的数据项\n",
    "- isEmpty() 返回deque是否为空\n",
    "- size()  返回deque中包含数据项的个数"
   ]
  },
  {
   "cell_type": "code",
   "execution_count": null,
   "metadata": {},
   "outputs": [],
   "source": []
  }
 ]
}