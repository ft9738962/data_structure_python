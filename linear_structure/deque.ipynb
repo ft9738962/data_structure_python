{
 "nbformat": 4,
 "nbformat_minor": 2,
 "metadata": {
  "language_info": {
   "name": "python",
   "codemirror_mode": {
    "name": "ipython",
    "version": 3
   },
   "version": "3.7.3-final"
  },
  "orig_nbformat": 2,
  "file_extension": ".py",
  "mimetype": "text/x-python",
  "name": "python",
  "npconvert_exporter": "python",
  "pygments_lexer": "ipython3",
  "version": 3,
  "kernelspec": {
   "name": "python3",
   "display_name": "Python 3"
  }
 },
 "cells": [
  {
   "cell_type": "markdown",
   "metadata": {},
   "source": [
    "双端队列特性：\n",
    "- 跟队列相似，其双端可称为首、尾端\n",
    "- 在双端队列中，既可以从队首加入，也可以从队尾加入，数据项可以从两端移除\n",
    "- 从某种意义上说，双端队列继承了栈和队列的能力\n",
    "- 双端队列并不具有内在LIFO或者FIFO特性，需要使用者自行维护特性\n",
    "\n",
    "双端队列操作：\n",
    "- Deque()创建空双端队列\n",
    "- addFront(item) 将item加入队首\n",
    "- addRear(item) 将item加入对尾\n",
    "- removeFront() 从队首移除数据项，返回值为移除的数据项\n",
    "- removeRear() 从对尾移除数据项，返回值为移除的数据项\n",
    "- isEmpty() 返回deque是否为空\n",
    "- size()  返回deque中包含数据项的个数"
   ]
  },
  {
   "cell_type": "code",
   "execution_count": 1,
   "metadata": {},
   "outputs": [],
   "source": [
    "#采用list实现，list下标0作为deque的尾端，list下标-1作为deque的首端\n",
    "class Deque:\n",
    "    def __init__(self):\n",
    "        self.items = []\n",
    "\n",
    "    def isEmpty(self):\n",
    "        return self.items == []\n",
    "\n",
    "    def addFront(self, item):\n",
    "        self.items.append(item)\n",
    "\n",
    "    def addRear(self, item):\n",
    "        self.items.insert(0, item)\n",
    "\n",
    "    def removeFront(self):\n",
    "        return self.items.pop()\n",
    "\n",
    "    def removeRear(self):\n",
    "        return self.items.pop(0)\n",
    "\n",
    "    def size(self):\n",
    "        return len(self.items)"
   ]
  },
  {
   "cell_type": "markdown",
   "metadata": {},
   "source": [
    "双端队列应用：\n",
    "\n",
    "1. 回文词判定\n",
    "    - 将要判断的词从对尾加入deque\n",
    "    - 从两端同时移除字符判断是否相同，直到deque中剩下0个或1个字符"
   ]
  },
  {
   "cell_type": "code",
   "execution_count": 2,
   "metadata": {},
   "outputs": [],
   "source": [
    "def palcheker(aString):\n",
    "    chardeque = Deque()\n",
    "\n",
    "    for ch in aString:\n",
    "        chardeque.addRear(ch)\n",
    "\n",
    "    stillEqual = True\n",
    "\n",
    "    while chardeque.size() > 1 and stillEqual:\n",
    "        first = chardeque.removeFront()\n",
    "        last = chardeque.removeRear()\n",
    "        if first != last:\n",
    "            stillEqual = False\n",
    "    \n",
    "    return stillEqual"
   ]
  },
  {
   "cell_type": "code",
   "execution_count": 3,
   "metadata": {},
   "outputs": [
    {
     "output_type": "stream",
     "name": "stdout",
     "text": "False\nTrue\n"
    }
   ],
   "source": [
    "#测试\n",
    "print(palcheker(\"lsdkjfskf\"))\n",
    "print(palcheker(\"radar\"))"
   ]
  }
 ]
}