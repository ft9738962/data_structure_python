{
 "cells": [
  {
   "cell_type": "markdown",
   "metadata": {},
   "source": [
    "抽象数据类型“栈”是一个有次序的数据集，每个数据项仅从“栈顶”一段加入到数据集中、从数据集中移除，栈具有后进先出LIFO的特性\n",
    "\n",
    "栈有如下的操作：\n",
    "- Stack() 创建一个空栈，不包含任何的数据项\n",
    "- push(item) 将item加入栈顶，无返回值\n",
    "- pop() 将栈顶数据项移除，并返回，栈被修改\n",
    "- peek() 查看栈顶数据项，返回栈顶的数\n",
    "- isEmpty() 返回栈是否为空栈\n",
    "- size() 返回栈中有多少个数据项\n",
    "\n",
    "栈在Python中可以用list来实现，list的两端都可以选择为栈的栈顶，但通常选择用list的末端，因为可以直接调用append和pop来实现push和pop功能，其性能为O(1)"
   ]
  },
  {
   "cell_type": "code",
   "execution_count": 2,
   "metadata": {},
   "outputs": [],
   "source": [
    "#Stack类代码见stack.py\n",
    "from stack import Stack"
   ]
  },
  {
   "cell_type": "markdown",
   "metadata": {},
   "source": [
    "栈的应用：\n",
    "\n",
    "1. 括号的匹配"
   ]
  },
  {
   "cell_type": "code",
   "execution_count": 3,
   "metadata": {},
   "outputs": [],
   "source": [
    "def parChecker(symbolString):\n",
    "    s = Stack()\n",
    "    balanced = True #是否匹配\n",
    "    index = 0\n",
    "    while index < len(symbolString) and balanced: #遍历所有括号\n",
    "        symbol = symbolString[index]\n",
    "        if symbol == \"(\": #如果左括号，则入栈，等后续右括号匹配\n",
    "            s.push(symbol)\n",
    "        else: #如果右括号\n",
    "            if s.isEmpty(): #看栈内是否有左括号\n",
    "                balanced = False #没有则说明不匹配\n",
    "            else:\n",
    "                s.pop() #栈顶有左括号则弹出栈\n",
    "        \n",
    "        index = index + 1 #进行下一个符号判断\n",
    "\n",
    "    if balanced and s.isEmpty():\n",
    "        return True #循环后，栈内无多余左括号且匹配记录为真则说明匹配成功\n",
    "    else:\n",
    "        return False #不然为假"
   ]
  },
  {
   "cell_type": "code",
   "execution_count": 4,
   "metadata": {},
   "outputs": [
    {
     "output_type": "stream",
     "name": "stdout",
     "text": "True\nFalse\n"
    }
   ],
   "source": [
    "#测试\n",
    "print(parChecker('((()))'))\n",
    "print(parChecker('(()'))"
   ]
  },
  {
   "cell_type": "code",
   "execution_count": 5,
   "metadata": {},
   "outputs": [],
   "source": [
    "#如果要进行通用符号的匹配判断，则可以在上面代码中进行修改\n",
    "def parChecker(symbolString):\n",
    "    s = Stack()\n",
    "    balanced = True\n",
    "    index = 0\n",
    "    while index < len(symbolString) and balanced:\n",
    "        symbol = symbolString[index]\n",
    "        if symbol in \"([{\": #匹配符号的类型扩展为([{三种\n",
    "            s.push(symbol)\n",
    "        else: #如果右括号\n",
    "            if s.isEmpty(): #看栈内是否有左括号\n",
    "                balanced = False #没有则说明不匹配\n",
    "            else:\n",
    "                top = s.pop()\n",
    "                if not matches(top, symbol): #左右符号的判断需要调用一个函数\n",
    "                    balanced = False\n",
    "        \n",
    "        index = index + 1\n",
    "\n",
    "    if balanced and s.isEmpty():\n",
    "        return True\n",
    "    else:\n",
    "        return False\n",
    "    \n",
    "def matches(open, close): #开闭符判断函数\n",
    "    opens = \"([{\"\n",
    "    closers = \")]}\"\n",
    "    return opens.index(open) == closers.index(close)"
   ]
  },
  {
   "cell_type": "code",
   "execution_count": 6,
   "metadata": {},
   "outputs": [
    {
     "output_type": "stream",
     "name": "stdout",
     "text": "True\nFalse\n"
    }
   ],
   "source": [
    "#测试\n",
    "print(parChecker('{{([][])}()}'))\n",
    "print(parChecker('[{()]'))"
   ]
  },
  {
   "cell_type": "markdown",
   "metadata": {},
   "source": [
    "栈的应用：\n",
    "\n",
    "2. 十进制转换二进制"
   ]
  },
  {
   "cell_type": "code",
   "execution_count": 9,
   "metadata": {},
   "outputs": [],
   "source": [
    "def divideBy2(decNumber):\n",
    "    remstack = Stack() # 用来存放二进制的数\n",
    "\n",
    "    while decNumber > 0:\n",
    "        rem = decNumber % 2 # 求余数\n",
    "        remstack.push(rem) #存放低位余数\n",
    "        decNumber = decNumber // 2 #取整\n",
    "\n",
    "    binString = \"\"\n",
    "    while not remstack.isEmpty():\n",
    "        binString = binString + str(remstack.pop()) # 把栈内的二进制结果拼接起来\n",
    "\n",
    "    return binString"
   ]
  },
  {
   "cell_type": "code",
   "execution_count": 10,
   "metadata": {},
   "outputs": [
    {
     "output_type": "stream",
     "name": "stdout",
     "text": "101010\n"
    }
   ],
   "source": [
    "#测试\n",
    "print(divideBy2(42))"
   ]
  },
  {
   "cell_type": "code",
   "execution_count": 11,
   "metadata": {},
   "outputs": [],
   "source": [
    "#扩展到更多进制计算，如八进制，十六进制\n",
    "def baseConverter(decNumber, base):\n",
    "    digits = \"0123456789ABCDEF\" #使用字符串来对应不同进制的字符表示\n",
    "\n",
    "    remstack = Stack()\n",
    "\n",
    "    while decNumber > 0:\n",
    "        rem = decNumber % base #使用进制的基底来求余\n",
    "        remstack.push(rem)\n",
    "        decNumber = decNumber // base\n",
    "\n",
    "    newString = \"\"\n",
    "    while not remstack.isEmpty():\n",
    "        newString = newString + digits[remstack.pop()]\n",
    "\n",
    "    return newString"
   ]
  },
  {
   "cell_type": "code",
   "execution_count": 15,
   "metadata": {},
   "outputs": [
    {
     "output_type": "stream",
     "name": "stdout",
     "text": "101100\n2C\n"
    }
   ],
   "source": [
    "#测试\n",
    "print(baseConverter(44,2))\n",
    "print(baseConverter(44,16))"
   ]
  },
  {
   "cell_type": "markdown",
   "metadata": {},
   "source": [
    "栈的应用：\n",
    "\n",
    "3. 表达式转换\n",
    "    - 中缀表达式，如：a + b * c，常规的数学表达式写法，对应全括号版本 (a + (b * c))，说明了计算的优先级\n",
    "    - 前缀表达式，如：+ a * b c，运算符前置，运算符后面紧跟左右算子的优先计算，相当于在全括号中缀表达式中，将运算符放在对应左括号位置并消除对应右括号\n",
    "    - 后缀表达式，如：a b c * +，运算符后置，运算符前面紧接左右算子的有限计算，相当于在全括号中缀表达式中，将运算符放在对应右括号位置并消除对应左括号\n",
    "\n",
    "算法：\n",
    "\n",
    "中缀表达式转后缀表达式算法（从左至右扫描中缀表达式单词列表）\n",
    "- 如果单词是操作数，则直接添加到后缀表达式列表的词尾\n",
    "- 如果单词是左括号“(”，则压入opstack栈顶\n",
    "- 如果单词是右括号“)”，则反复弹出opstack栈顶操作符，加入到输出列表末尾，直到碰到左括号\n",
    "- 如果单词是操作符“*/+-”，则压入opstack栈顶\n",
    "    - 但在压入之前，要比较其与其他栈顶操作符的优先级\n",
    "    - 如果栈顶的高于或等于它，就要反复弹出栈顶操作符，加入到输出列表的末尾\n",
    "    - 直到栈顶的操作符优先级低于它\n",
    "- 扫描结束后，把opstack栈中的所有剩余操作符一次弹出，添加到输出列表末尾\n",
    "- 把输出列表用join方法合并成后缀表达式字符串"
   ]
  },
  {
   "cell_type": "code",
   "execution_count": 16,
   "metadata": {},
   "outputs": [
    {
     "output_type": "execute_result",
     "data": {
      "text/plain": "['3', '*', 'a', '+', '5']"
     },
     "metadata": {},
     "execution_count": 16
    }
   ],
   "source": [
    "i = '3 * a + 5'\n",
    "i.split()"
   ]
  },
  {
   "cell_type": "code",
   "execution_count": 45,
   "metadata": {},
   "outputs": [],
   "source": [
    "def infixToPostfix(infixexpr):\n",
    "    prec = {} # 用字典保存运算符优先级\n",
    "    prec[\"**\"] = 4\n",
    "    prec[\"*\"] = 3\n",
    "    prec[\"/\"] = 3\n",
    "    prec[\"+\"] = 2\n",
    "    prec [\"-\"] = 2\n",
    "    prec[\"(\"] = 1\n",
    "    opStack = Stack()\n",
    "    postfixList = []\n",
    "    tokenList = infixexpr.split() #把中缀表达式拆成逐个字符\n",
    "\n",
    "    for token in tokenList:\n",
    "        if token in \"ABCDEFGHIJKLMNOPQRSTUVWXYZ\" or token in \"0123456789\":\n",
    "            postfixList.append(token)\n",
    "        elif token == '(': # 如果是左括号，直接压入栈\n",
    "            opStack.push(token)\n",
    "        elif token == ')': # 如果是右括号，就从栈弹出，直到弹出其对应的左括号为止\n",
    "            topToken = opStack.pop()\n",
    "            while topToken != '(':\n",
    "                postfixList.append(topToken)\n",
    "                topToken = opStack.pop()\n",
    "        else: #如果是运算符\n",
    "            while (not opStack.isEmpty()) and (prec[opStack.peek()] >= prec[token]): #栈顶运算符优先级比扫描的运算符高的话\n",
    "                postfixList.append(opStack.pop()) #弹出栈顶并加入列表\n",
    "            opStack.push(token)\n",
    "\n",
    "    while not opStack.isEmpty(): #扫描完成后，将栈反复弹出进列表\n",
    "        postfixList.append(opStack.pop())\n",
    "    return ' '.join(postfixList)"
   ]
  },
  {
   "cell_type": "code",
   "execution_count": 38,
   "metadata": {},
   "outputs": [
    {
     "output_type": "stream",
     "name": "stdout",
     "text": "A B + C D + *\nA B + C *\nA B C * +\n"
    }
   ],
   "source": [
    "#测试\n",
    "print(infixToPostfix(\"( A + B ) * ( C + D )\"))\n",
    "print(infixToPostfix(\"( A + B ) * C\"))\n",
    "print(infixToPostfix(\"A + B * C\"))"
   ]
  },
  {
   "cell_type": "markdown",
   "metadata": {},
   "source": [
    "栈的应用：\n",
    "\n",
    "4. 后缀表达式的求值\n",
    "    - 创建空栈operandStack用于暂存操作数\n",
    "    - 将后缀表达式用split方式解析为单词列表\n",
    "    - 从左到右扫描单词列表\n",
    "        - 如果单词是一个操作数，将单词转换为整数int，压入operandStack栈顶\n",
    "        - 如果单词是一个操作符（*/+-），就开始求值，从栈顶弹出2个操作数，先弹出的是右操作数，后弹出的是左操作数，计算后将值重新压入栈顶\n",
    "    - 单词列表扫描结束后，表达式的值就在栈顶\n",
    "    - 弹出栈顶的值，返回"
   ]
  },
  {
   "cell_type": "code",
   "execution_count": 43,
   "metadata": {},
   "outputs": [],
   "source": [
    "def postfixEval(postfixExpr):\n",
    "    operandStack = Stack()\n",
    "    tokenList = postfixExpr.split()\n",
    "\n",
    "    for token in tokenList:\n",
    "        if token in \"0123456789\":\n",
    "            operandStack.push(int(token))\n",
    "        else:\n",
    "            operand2 = operandStack.pop()\n",
    "            operand1 = operandStack.pop()\n",
    "            result  = doMath(token, operand1, operand2)\n",
    "            operandStack.push(result)\n",
    "\n",
    "    return operandStack.pop() #弹出结果\n",
    "\n",
    "def doMath(op, op1, op2):\n",
    "    if op == \"*\":\n",
    "        return op1 * op2\n",
    "    elif op == \"**\":\n",
    "        return op1 ** op2\n",
    "    elif op == \"/\":\n",
    "        return op1 / op2\n",
    "    elif op == \"+\":\n",
    "        return op1 + op2\n",
    "    else:\n",
    "        return op1 - op2"
   ]
  },
  {
   "cell_type": "code",
   "execution_count": 40,
   "metadata": {},
   "outputs": [
    {
     "output_type": "execute_result",
     "data": {
      "text/plain": "39"
     },
     "metadata": {},
     "execution_count": 40
    }
   ],
   "source": [
    "#测试\n",
    "postfixEval(infixToPostfix(\"( 3 * 5 ) + ( 4 * 6 )\"))"
   ]
  },
  {
   "cell_type": "code",
   "execution_count": 47,
   "metadata": {},
   "outputs": [
    {
     "output_type": "execute_result",
     "data": {
      "text/plain": "'5 3 4 2 - ** *'"
     },
     "metadata": {},
     "execution_count": 47
    }
   ],
   "source": [
    "infixToPostfix(\"5 * 3 ** ( 4 - 2 )\")"
   ]
  }
 ],
 "metadata": {
  "language_info": {
   "name": "python",
   "codemirror_mode": {
    "name": "ipython",
    "version": 3
   },
   "version": "3.7.3-final"
  },
  "orig_nbformat": 2,
  "file_extension": ".py",
  "mimetype": "text/x-python",
  "name": "python",
  "npconvert_exporter": "python",
  "pygments_lexer": "ipython3",
  "version": 3,
  "kernelspec": {
   "name": "python3",
   "display_name": "Python 3"
  }
 },
 "nbformat": 4,
 "nbformat_minor": 2
}