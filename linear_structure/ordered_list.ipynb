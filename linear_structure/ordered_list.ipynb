{
 "cells": [
  {
   "cell_type": "markdown",
   "metadata": {},
   "source": []
  },
  {
   "cell_type": "markdown",
   "metadata": {},
   "source": [
    "有序表的特性：\n",
    "- 数据项依照某种可比性质（如整数大小、字母先后）来决定在列表中的位置\n",
    "- 越“小”的数据项越靠近列表的头\n",
    "\n",
    "有序表的操作：\n",
    "- OrderedList() 创建一个空的有序表\n",
    "- add(item) 在表中添加一个数据项，并保持整体顺序\n",
    "- remove(item) 从有序表中移除一个数据项，此项应存在，有序表被修改\n",
    "- search(item) 在有序表中查找数据项，返回是否存在\n",
    "- isEmpty() 返回是否为空表\n",
    "- size() 返回表中数据项的个数\n",
    "- index(item) 返回数据项在表中的位置\n",
    "- pop() 移除并返回有序表中的最后一项，表中应至少存在该项\n",
    "- pop(pos) 移除并返回有序表中指定位置的数据项，此位置应存在\n",
    "\n",
    "有序表的代码实现：\n",
    "- 采用链表方式来实现\n",
    "- isEmpty/size/remove这些方法和无序表一样\n",
    "- search/add方法需要修改\n",
    "    - search中只要搜到数据大于被查数，则后面的就可以不用查找了\n",
    "    - add必须保证数据项添加在合适的位置，以维护链表的有序性"
   ]
  },
  {
   "cell_type": "code",
   "execution_count": 1,
   "metadata": {},
   "outputs": [],
   "source": [
    "from unordered_list import Node\n",
    "from ordered_list import OrderedList"
   ]
  }
 ],
 "metadata": {
  "language_info": {
   "name": "python",
   "codemirror_mode": {
    "name": "ipython",
    "version": 3
   },
   "version": "3.7.3-final"
  },
  "orig_nbformat": 2,
  "file_extension": ".py",
  "mimetype": "text/x-python",
  "name": "python",
  "npconvert_exporter": "python",
  "pygments_lexer": "ipython3",
  "version": 3,
  "kernelspec": {
   "name": "python3",
   "display_name": "Python 3"
  }
 },
 "nbformat": 4,
 "nbformat_minor": 2
}