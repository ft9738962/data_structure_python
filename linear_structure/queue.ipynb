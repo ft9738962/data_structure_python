{
 "nbformat": 4,
 "nbformat_minor": 2,
 "metadata": {
  "language_info": {
   "name": "python",
   "codemirror_mode": {
    "name": "ipython",
    "version": 3
   },
   "version": "3.7.3-final"
  },
  "orig_nbformat": 2,
  "file_extension": ".py",
  "mimetype": "text/x-python",
  "name": "python",
  "npconvert_exporter": "python",
  "pygments_lexer": "ipython3",
  "version": 3,
  "kernelspec": {
   "name": "python3",
   "display_name": "Python 3"
  }
 },
 "cells": [
  {
   "cell_type": "markdown",
   "metadata": {},
   "source": [
    "队列特征：\n",
    "- 新数据项的添加总发生在一端（通常称为尾端 rear）\n",
    "- 现存数据的移除发生在另一端（首端 front）\n",
    "- 这种次序称为FIFO\n",
    "\n",
    "队列的操作：\n",
    "- Queue() 创建一个空队列，返回队列对象\n",
    "- enqueue(item) 将一个数据项加入队列，无返回\n",
    "- dequeue() 从队首移除数据项，返回队首数据项，队列被修改\n",
    "- isEmptu() 测试队列是否为空队列，返回布尔值\n",
    "- size() 返回队列内数值项个数"
   ]
  },
  {
   "cell_type": "code",
   "execution_count": 1,
   "metadata": {},
   "outputs": [],
   "source": [
    "class Queue:\n",
    "    def __init__(self):\n",
    "        self.items = []\n",
    "\n",
    "    def isEmpty(self):\n",
    "        return self.items == []\n",
    "    \n",
    "    def enqueue(self, item):\n",
    "        self.items.insert(0, item)\n",
    "\n",
    "    def dequeue(self):\n",
    "        return self.items.pop()\n",
    "\n",
    "    def size(self):\n",
    "        return len(self.items)"
   ]
  },
  {
   "cell_type": "markdown",
   "metadata": {},
   "source": [
    "队列的应用：\n",
    "\n",
    "1. 热土豆问题\n",
    "    - 有n个人，每传m次土豆后，拿着土豆的人出列，求最后剩下的人\n",
    "    - 用队列模拟土豆传递，队首的人视为拿着土豆的人，队首的人被出队，然后再次入队，视为将土豆传给下一个人，这个过程发生了几次就视作土豆被传递了几次"
   ]
  },
  {
   "cell_type": "code",
   "execution_count": 8,
   "metadata": {},
   "outputs": [],
   "source": [
    "def hotPotato(name_list, num):\n",
    "    simqueue = Queue()\n",
    "    for name in name_list:\n",
    "        simqueue.enqueue(name) #初始化队列\n",
    "\n",
    "    while simqueue.size() > 1:\n",
    "        for i in range(num):\n",
    "            simqueue.enqueue(simqueue.dequeue())\n",
    "\n",
    "        simqueue.dequeue() #把传递n次后拿土豆的人给永久剔除队列\n",
    "        \n",
    "    return simqueue.dequeue() #返回最后的人\n",
    ""
   ]
  },
  {
   "cell_type": "code",
   "execution_count": 9,
   "metadata": {},
   "outputs": [
    {
     "output_type": "stream",
     "name": "stdout",
     "text": "Susan\n"
    }
   ],
   "source": [
    "print(hotPotato([\"Bill\", \"David\", \"Susan\", \"Jane\", \"Kent\", \"Brad\"], 7))"
   ]
  },
  {
   "cell_type": "markdown",
   "metadata": {},
   "source": [
    "队列的应用：\n",
    "\n",
    "2. 打印任务\n",
    "    - 假设有两台打印机，打印速度相差一倍；在10分钟内，每一秒都有可能有打印任务，打印机一旦开始打印，则需要等待打印工作完成后，才能开始下一个打印任务\n",
    "    - 对打印机进行模拟，按照秒为单位进行建模仿真"
   ]
  },
  {
   "cell_type": "code",
   "execution_count": 10,
   "metadata": {},
   "outputs": [],
   "source": [
    "import random\n",
    "\n",
    "class Printer:\n",
    "    def __init__(self, ppm):\n",
    "        self.pagerate = ppm # 打印速度\n",
    "        self.currentTask = None\n",
    "        self.timeRemaining = 0 # 任务倒计时\n",
    "\n",
    "    def tick(self): #每一秒打印\n",
    "        if self.currentTask != None:\n",
    "            self.timeRemaining = self.timeRemaining - 1 # 有打印任务，则任务需要完成时间减一\n",
    "            if self.timeRemaining <= 0:\n",
    "                self.currentTask = None\n",
    "        \n",
    "    def busy(self): #查询打印机工作状态\n",
    "        if self.currentTask != None:\n",
    "            return True\n",
    "        else:\n",
    "            return False\n",
    "\n",
    "    def startNext(self, newtask): #打印机获取新任务\n",
    "        self.currentTask = newtask\n",
    "        self.timeRemaining = newtask.getPages() * 60 / self.pagerate #用新打印任务的页数，除以打印机打印速度，获得新任务需要的打印时间"
   ]
  },
  {
   "cell_type": "code",
   "execution_count": 11,
   "metadata": {},
   "outputs": [],
   "source": [
    "class Task: #建立打印任务模型\n",
    "    def __init__(self, time):\n",
    "        self.timestamp = time\n",
    "        self.pages = random.randrange(1, 21) #随机生成1到20页的打印任务\n",
    "\n",
    "    def getStamp(self):\n",
    "        return self.timestamp\n",
    "\n",
    "    def getPages(self):\n",
    "        return self.pages\n",
    "\n",
    "    def waitTime(self, currenttime):\n",
    "        return currenttime - self.timestamp #计算返回等待时间\n",
    "\n",
    "def newPrintTask():\n",
    "    num = random.randrange(1, 181) #打印任务按照每秒1/180的概率生成\n",
    "    if num == 180:\n",
    "        return True\n",
    "    else:\n",
    "        return False"
   ]
  },
  {
   "cell_type": "code",
   "execution_count": 13,
   "metadata": {},
   "outputs": [],
   "source": [
    "def simulation(numSeconds, pagesPerMinute):\n",
    "    labprinter = Printer(pagesPerMinute)\n",
    "    printQueue = Queue()\n",
    "    waitingtimes = [] #记录每个需要等待的任务的等待时间\n",
    "\n",
    "    for currentSecond in range(numSeconds):\n",
    "        if newPrintTask():\n",
    "            task  = Task(currentSecond)\n",
    "            printQueue.enqueue(task)\n",
    "\n",
    "        if (not labprinter.busy()) and (not printQueue.isEmpty()):\n",
    "            nexttask = printQueue.dequeue()\n",
    "            waitingtimes.append(nexttask.waitTime(currentSecond))\n",
    "            labprinter.startNext(nexttask)\n",
    "\n",
    "        labprinter.tick()\n",
    "\n",
    "    averageWait = sum(waitingtimes)/len(waitingtimes)\n",
    "    print(f\"Average Wait {averageWait:2f} secs {printQueue.size()} tasks remaining\")"
   ]
  },
  {
   "cell_type": "code",
   "execution_count": 14,
   "metadata": {},
   "outputs": [
    {
     "output_type": "stream",
     "name": "stdout",
     "text": "Average Wait 18.500000 secs 0 tasks remaining\nAverage Wait 107.842105 secs 0 tasks remaining\nAverage Wait 17.153846 secs 1 tasks remaining\nAverage Wait 67.647059 secs 0 tasks remaining\nAverage Wait 176.000000 secs 4 tasks remaining\nAverage Wait 105.000000 secs 1 tasks remaining\nAverage Wait 54.842105 secs 1 tasks remaining\nAverage Wait 83.391304 secs 0 tasks remaining\nAverage Wait 212.230769 secs 0 tasks remaining\nAverage Wait 58.888889 secs 1 tasks remaining\n"
    }
   ],
   "source": [
    "#测试使用普通中速打印模式的打印机，一分钟打印5页，模拟10次\n",
    "for i in range(10):\n",
    "    simulation(3600, 5)"
   ]
  },
  {
   "cell_type": "code",
   "execution_count": 15,
   "metadata": {},
   "outputs": [
    {
     "output_type": "stream",
     "name": "stdout",
     "text": "Average Wait 23.181818 secs 0 tasks remaining\nAverage Wait 1.357143 secs 0 tasks remaining\nAverage Wait 17.368421 secs 0 tasks remaining\nAverage Wait 24.040000 secs 0 tasks remaining\nAverage Wait 39.208333 secs 0 tasks remaining\nAverage Wait 12.187500 secs 0 tasks remaining\nAverage Wait 12.600000 secs 0 tasks remaining\nAverage Wait 19.500000 secs 0 tasks remaining\nAverage Wait 8.434783 secs 0 tasks remaining\nAverage Wait 9.894737 secs 1 tasks remaining\n"
    }
   ],
   "source": [
    "#测试使用普通快速打印模式的打印机，一分钟打印10页，模拟10次\n",
    "for i in range(10):\n",
    "    simulation(3600, 10)"
   ]
  },
  {
   "cell_type": "code",
   "execution_count": null,
   "metadata": {},
   "outputs": [],
   "source": []
  }
 ]
}