{
 "nbformat": 4,
 "nbformat_minor": 2,
 "metadata": {
  "language_info": {
   "name": "python",
   "codemirror_mode": {
    "name": "ipython",
    "version": 3
   }
  },
  "orig_nbformat": 2,
  "file_extension": ".py",
  "mimetype": "text/x-python",
  "name": "python",
  "npconvert_exporter": "python",
  "pygments_lexer": "ipython3",
  "version": 3
 },
 "cells": [
  {
   "cell_type": "markdown",
   "metadata": {},
   "source": [
    "四种常用的线性结构：\n",
    "\n",
    "1. 栈 Stack\n",
    "2. 队列 Queue\n",
    "3. 双端队列 Deque\n",
    "4. 列表 List\n",
    "\n",
    "他们的区别是数据不同的增减方式"
   ]
  }
 ]
}