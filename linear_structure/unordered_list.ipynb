{
 "cells": [
  {
   "cell_type": "markdown",
   "metadata": {},
   "source": [
    "列表（无序表）的特性：\n",
    "- 列表是一种数据项按照**相对位置**存放的数据集\n",
    "- 又被称为“无序表unordered list”\n",
    "- 数据项只按照存放位置来索引\n",
    "\n",
    "无序表的操作：\n",
    "- List() 创建一个空列表\n",
    "- add(item) 添加一个数据项到列表中，假设item原先不存在与列表中\n",
    "- remove(item) 从列表中移除item，列表被修改，item原先应存在于表中\n",
    "- search(item) 在列表中查找item，返回布尔值\n",
    "- isEmpty() 返回列表是否为空\n",
    "- size() 返回列表包含了多少数据项\n",
    "- append(item) 添加一个数据项到表末尾，假设item原先不存在于列表中\n",
    "- index(item) 返回数据项在表中的位置\n",
    "- insert(pos, item) 将数据项插入到位置pos，假设item原先不存在于列表中，同时原列表具有足够多个数据项，能让item占据位置pos\n",
    "- pop() 从列表末尾移除数据项，假设原列表至少有1个数据项\n",
    "- pop(pos) 移除位置为pos的数据项，假设原列表存在位置pos\n",
    "\n",
    "采用链表实现无序表\n",
    "- 链表实现的最基本元素是节点Node\n",
    "- 每个节点至少包含2个信息：数据项本身，以及指向下一个节点的引用信息\n",
    "- 节点next为None的意义是没有下一个节点了"
   ]
  },
  {
   "cell_type": "code",
   "execution_count": 1,
   "metadata": {},
   "outputs": [],
   "source": [
    "#链表的代码实现\n",
    "from unordered_list.py import Node"
   ]
  },
  {
   "cell_type": "code",
   "execution_count": 2,
   "metadata": {},
   "outputs": [
    {
     "output_type": "execute_result",
     "data": {
      "text/plain": "93"
     },
     "metadata": {},
     "execution_count": 2
    }
   ],
   "source": [
    "#测试\n",
    "temp = Node(93)\n",
    "temp.getData()"
   ]
  },
  {
   "cell_type": "markdown",
   "metadata": {},
   "source": [
    "链表实现无序表 设立一个属性head，保存对第一个节点的引用，空表的head为None。随着数据项的加入，无序表的head始终指向链条中的第一个节点\n",
    "- 无序表对象本身并不包含数据项，数据项在节点中\n",
    "- head只是对收个节点Node的引用\n",
    "- 判断空表的isEmpty()很容易实现（return self.head == None）"
   ]
  },
  {
   "cell_type": "code",
   "execution_count": null,
   "metadata": {},
   "outputs": [],
   "source": [
    "from unordered_list import UnorderedList"
   ]
  }
 ],
 "metadata": {
  "language_info": {
   "name": "python",
   "codemirror_mode": {
    "name": "ipython",
    "version": 3
   },
   "version": "3.7.3-final"
  },
  "orig_nbformat": 2,
  "file_extension": ".py",
  "mimetype": "text/x-python",
  "name": "python",
  "npconvert_exporter": "python",
  "pygments_lexer": "ipython3",
  "version": 3,
  "kernelspec": {
   "name": "python3",
   "display_name": "Python 3"
  }
 },
 "nbformat": 4,
 "nbformat_minor": 2
}