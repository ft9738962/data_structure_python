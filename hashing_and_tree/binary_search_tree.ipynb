{
 "cells": [
  {
   "cell_type": "markdown",
   "metadata": {},
   "source": [
    "### 二叉查找树 BinarySearchTree BST\n",
    "\n",
    "利用key的大小构造一颗二叉树，令左子节点的key比父节点的key小，右子节点的key比父节点的key大\n",
    "\n",
    "### 二叉查找树的实现\n",
    "需要用到BST和TreeNode两个类，BST的root成员引用根节点TreeNode\n"
   ]
  },
  {
   "cell_type": "code",
   "execution_count": 15,
   "metadata": {},
   "outputs": [],
   "source": [
    "from BST import *"
   ]
  },
  {
   "cell_type": "code",
   "execution_count": 16,
   "metadata": {},
   "outputs": [],
   "source": [
    "mytree = BinarySearchTree()\n",
    "mytree[3] = 'a'\n",
    "mytree[4] = 'b'\n",
    "mytree[6] = 'c'\n",
    "mytree[1] = 'd'"
   ]
  },
  {
   "cell_type": "code",
   "execution_count": 18,
   "metadata": {},
   "outputs": [
    {
     "output_type": "stream",
     "name": "stdout",
     "text": "c\nTrue\n"
    }
   ],
   "source": [
    "print(mytree[6])\n",
    "print(6 in mytree)"
   ]
  },
  {
   "cell_type": "markdown",
   "metadata": {},
   "source": [
    "### 二叉查找树算法分析\n",
    "\n",
    "如果key的分布随机，大于小于根节点key的键值数量大致相等，那么BST的高度就是$\\log_2{n}$(n是节点个数)\n",
    "\n",
    "这样的树是平衡树，put方法的最差性能是$O(\\log_2{n})$\n",
    "\n",
    "如果key列表极端分布，按照从小到大顺序插入，这时候put方法性能就是O(n)\n",
    "\n",
    "因此希望有一种树，可以在key插入过程中，保持平衡树状态\n",
    "\n",
    "### AVL树的定义\n",
    "AVL树的实现中，需要对每个节点跟踪“平衡因子balance factor”参数\n",
    "\n",
    "平衡因子是根据节点的左右子树的高度差来定义\n",
    "$$\n",
    "balanceFactor = height(leftSubTree) - height(rightSubTree)\n",
    "$$\n",
    "如果平衡因子大于0，称为**左重left-heavy**，小于0，称为**右重right-heavy**，等于0，称作**平衡**\n",
    "\n",
    "如果一个二叉查找树，每个节点的平衡因子都在-1,0,1之间，则把这个二叉查找树称为平衡树"
   ]
  },
  {
   "cell_type": "markdown",
   "metadata": {},
   "source": [
    "### AVL树的性能\n",
    "最差情形下，树的高度和总结点数N和存在以下关系\n",
    "$$\n",
    "N_h = 1 + N_{h-1} + N_{h-2}\n",
    "$$\n",
    "\n",
    "其性质非常接近斐波那契数列，经过改写得到\n",
    "$$\n",
    "N_h = F_{h+2} - 1 ,h\\geq1\n",
    "$$\n",
    "\n",
    "斐波那契数列的性质：$F_i/F_{i-1}$趋向于黄金分割$\\phi$\n",
    "$$\n",
    "\\phi=\\frac{1+\\sqrt{5}}{2}\n",
    "$$\n",
    "$$\n",
    "F_i = {\\phi^i}/\\sqrt{5}\n",
    "$$\n",
    "\n",
    "再将$F_i$通式带回$N_{h}$，得到\n",
    "$$\n",
    "N_{h}=\\frac{\\phi^{h+2}}{\\sqrt{5}}-1\n",
    "$$\n",
    "\n",
    "经过计算得出\n",
    "$$\n",
    "h = 1.44\\log{N_{h}}\n",
    "$$\n",
    "\n",
    "因此可以说AVL树的搜索时间复杂度为$O(\\log{n})$"
   ]
  },
  {
   "cell_type": "markdown",
   "metadata": {},
   "source": [
    "### AVL树的实现\n",
    "\n",
    "将插入节点作为叶节点插入，叶节点自身的平衡因子是0，但其对父节点的影响：\n",
    "- 如果作为左子节点插入，父节点平衡因子会+1\n",
    "- 如果作为右子节点插入，父节点平衡因子会-1\n",
    "\n",
    "这种影响会随着父节点一直向上传递，直到某个父节点的平衡因子被调整到0，不再影响上层节点的平衡因子为止\n",
    "- 对于一个“右重”的子树，需要通过左旋转（并保持BST性质）\n",
    "    1. 将子树根节点的右子节点升为子树根\n",
    "    2. 将旧根降为新根的左子节点\n",
    "    3. 如果新根原来有左子节点，将该节点设为老根节点的右子节点\n",
    "- 对于一个“左重”的子树，需要通过右旋转（并保持BST性质）\n",
    "    1. 将子树根节点的左子节点升为子树根\n",
    "    2. 将旧根降为新根的右子节点\n",
    "    3. 如果新根原来有右子节点，将该节点设为老根节点的左子节点"
   ]
  },
  {
   "cell_type": "markdown",
   "metadata": {},
   "source": [
    "### AVL插入的性能\n",
    "put方法分为两部分\n",
    "\n",
    "1. 需要插入的新节点是叶节点，更新所有父节点和祖先节点的代价最多是$O(\\log{n})$\n",
    "2. 如果插入的新节点引发不平衡，重新平衡最多需要2次选择(rebalance)，但旋转的代价与问题规模无关是常熟O(1)\n",
    "所以整个put方法的时间复杂度还是$O(\\log{n})$"
   ]
  },
  {
   "cell_type": "code",
   "execution_count": null,
   "metadata": {},
   "outputs": [],
   "source": []
  }
 ],
 "metadata": {
  "language_info": {
   "codemirror_mode": {
    "name": "ipython",
    "version": 3
   },
   "file_extension": ".py",
   "mimetype": "text/x-python",
   "name": "python",
   "nbconvert_exporter": "python",
   "pygments_lexer": "ipython3",
   "version": "3.7.3-final"
  },
  "orig_nbformat": 2,
  "kernelspec": {
   "name": "python3",
   "display_name": "Python 3"
  }
 },
 "nbformat": 4,
 "nbformat_minor": 2
}