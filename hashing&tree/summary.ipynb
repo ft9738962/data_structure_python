{
 "cells": [
  {
   "cell_type": "markdown",
   "metadata": {},
   "source": [
    "### 不同ADT Map的时间复杂度数量级\n",
    "||有序表|散列表|二叉查找树|AVL树|\n",
    "|:-:|:-:|:-:|:-:|:-:|\n",
    "|put|O(n)|O(1)->O(n)|$O(\\log_2{n})$->O(n)|$O(\\log_2{n})$|\n",
    "|get|$O(\\log_2{n})$|O(1)->O(n)|$O(\\log_2{n})$->O(n)|$O(\\log_2{n})$|\n",
    "|in|$O(\\log_2{n})$|O(1)->O(n)|$O(\\log_2{n})$->O(n)|$O(\\log_2{n})$|\n",
    "|del|O(n)|O(1)->O(n)|$O(\\log_2{n})$->O(n)|$O(\\log_2{n})$|\n"
   ]
  },
  {
   "cell_type": "code",
   "execution_count": null,
   "metadata": {},
   "outputs": [],
   "source": []
  }
 ],
 "metadata": {
  "language_info": {
   "codemirror_mode": {
    "name": "ipython",
    "version": 3
   },
   "file_extension": ".py",
   "mimetype": "text/x-python",
   "name": "python",
   "nbconvert_exporter": "python",
   "pygments_lexer": "ipython3",
   "version": "3.7.3-final"
  },
  "orig_nbformat": 2,
  "kernelspec": {
   "name": "python3",
   "display_name": "Python 3"
  }
 },
 "nbformat": 4,
 "nbformat_minor": 2
}