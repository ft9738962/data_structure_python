{
 "cells": [
  {
   "cell_type": "markdown",
   "metadata": {},
   "source": [
    "### 优先队列\n",
    "\n",
    "根据每个数据项的优先级，将优先级高的数据项排在队列的前方\n",
    "\n",
    "**优先队列的实现：**\n",
    "\n",
    "- 不使用有序队列，因为出队可能是O(n)或O(1)，但入队一定是O(n)\n",
    "- 这里考虑使用二叉堆 Binary Heap，能够将入队和出队的复杂度都保持在O(log n)\n",
    "- 二叉堆逻辑结构上像二叉树，但实现使用的是非嵌套列表\n",
    "- 最小key排在队首的称为“最小堆min heap”，反之，最大key排在队首的是“最大堆max heap”\n",
    "\n"
   ]
  },
  {
   "cell_type": "markdown",
   "metadata": {},
   "source": [
    "**二叉堆操作定义**\n",
    "\n",
    "- BinaryHeap()：创建一个空二叉堆对象\n",
    "- insert(k)：将新key加入到堆中\n",
    "- findMin()：返回堆中的最小项，最小项仍保留在堆中\n",
    "- delMin()：返回堆中最小项，同时从堆中删除\n",
    "- isEmpty()：返回堆是否为空\n",
    "- size()：返回堆中key的个数\n",
    "- buildHeap(list)：从一个key列表创建新堆\n",
    "\n",
    "为了使堆操作能保持在对数水平上，就必须采用二叉树结构\n",
    "\n",
    "同样，如果要使操作**始终**保持在对数数量级上，就必须始终保持二叉树的“平衡”\n",
    "\n",
    "这里采用“完全二叉树”的结构来近似实现“平衡”\n",
    "\n",
    "完全二叉树：叶节点最多只出现在最底层和次底层，而且最底层的叶节点连续集中在最左边，每个内部节点都有两个子节点，最多可有1个节点例外"
   ]
  },
  {
   "cell_type": "markdown",
   "metadata": {},
   "source": [
    "**完全二叉树的列表实现及性质**\n",
    "\n",
    "- 完全二叉树由于其特殊性，可以用非嵌套列表，以简单的方式实现\n",
    "- 如果节点的下标为p，那么其左子节点下标为2p，右子节点为2p+1，其父节点下标为p//2\n",
    "\n",
    "**堆次序 Heap Order**\n",
    "\n",
    "任何一个节点x，其父节点p中的key均小于x中的key\n",
    "\n",
    "**这样符合“堆次序”性质的二叉树，其中任何一条路径，均是一个已排序数列，根节点key最小**"
   ]
  },
  {
   "cell_type": "markdown",
   "metadata": {},
   "source": [
    "**二叉堆的生成**\n",
    "buildHeap(lst)方法：从无序表生成“堆”\n",
    "\n",
    "- 最自然的想法是，用Insert(key)方法，将无序表中的数据Insert到堆中，但这么做总代价是O(nlog n)\n",
    "- 如果用“下沉”法，可以将总代价控制在O(n)"
   ]
  }
 ],
 "metadata": {
  "language_info": {
   "name": "python",
   "codemirror_mode": {
    "name": "ipython",
    "version": 3
   },
   "version": "3.7.3-final"
  },
  "orig_nbformat": 2,
  "file_extension": ".py",
  "mimetype": "text/x-python",
  "name": "python",
  "npconvert_exporter": "python",
  "pygments_lexer": "ipython3",
  "version": 3,
  "kernelspec": {
   "name": "python3",
   "display_name": "Python 3"
  }
 },
 "nbformat": 4,
 "nbformat_minor": 2
}