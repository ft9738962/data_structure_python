{
 "nbformat": 4,
 "nbformat_minor": 2,
 "metadata": {
  "language_info": {
   "name": "python",
   "codemirror_mode": {
    "name": "ipython",
    "version": 3
   },
   "version": "3.7.3-final"
  },
  "orig_nbformat": 2,
  "file_extension": ".py",
  "mimetype": "text/x-python",
  "name": "python",
  "npconvert_exporter": "python",
  "pygments_lexer": "ipython3",
  "version": 3,
  "kernelspec": {
   "name": "python3",
   "display_name": "Python 3"
  }
 },
 "cells": [
  {
   "cell_type": "markdown",
   "metadata": {},
   "source": [
    "**题目内容：**\n",
    "\n",
    "给定一个M进制的数，请将其转换为N进制并输出\n",
    "\n",
    "\n",
    "**输入格式:**\n",
    "\n",
    "两行，第一行为空格分隔的两个数字，分别为10进制表示的M与N；其中M, N均满足2 ≤ M、N ≤ 36\n",
    "\n",
    "第二行为待转换的数字，其中每位超过9的部分从10至36分别用大写字母A-Z表示；输入数据保证其中最大位数对应数字不超过M\n",
    "\n",
    "\n",
    "**输出格式：**\n",
    "\n",
    "一行字符串，表示转换后的N进制数\n",
    "\n",
    "\n",
    "**输入样例：**\n",
    "\n",
    "8 16\n",
    "\n",
    "‭473‬\n",
    "\n",
    "**输出样例：**\n",
    "\n",
    "‭13B‬"
   ]
  },
  {
   "cell_type": "code",
   "execution_count": 38,
   "metadata": {},
   "outputs": [],
   "source": [
    "def n_to_m_base(m, n, input):\n",
    "    return convert(n, reverse(m, input))\n",
    "\n",
    "def convert(n, input):\n",
    "    char = \"0123456789ABCDEFGHIJKLMNOPQRSTUVWXYZ\"\n",
    "    if input > n:\n",
    "        return convert(n, input // n) + char[input % n]\n",
    "    else:\n",
    "        return char[input % n]\n",
    "\n",
    "def reverse(m, input):\n",
    "    char = \"0123456789ABCDEFGHIJKLMNOPQRSTUVWXYZ\"\n",
    "    if len(str(input)) > 1:\n",
    "        return reverse(m, str(input)[1:]) + char.index(str(input)[0]) * m**(len(str(input))-1)\n",
    "    else:\n",
    "        return char.index(input)"
   ]
  },
  {
   "cell_type": "code",
   "execution_count": 42,
   "metadata": {},
   "outputs": [
    {
     "output_type": "stream",
     "name": "stdout",
     "text": "7777\n"
    }
   ],
   "source": [
    "#test\n",
    "print(n_to_m_base(16, 8, \"FFF\"))"
   ]
  },
  {
   "cell_type": "markdown",
   "metadata": {},
   "source": [
    "**题目内容：**\n",
    "\n",
    "如课上所说，汉诺塔问题源于印度一个古老传说。对于原始的汉诺塔游戏，可供玩家操作的空间一共只有三根柱子，导致按原传说的要求，需要超过1.8*10^19步才能解开。\n",
    "\n",
    "透过新增柱子可以大幅度地减少需要的步数。此处要求在给出指定的盘数，柱子数量为4（即限制为4根柱子）且不改变原有传说的其他规则的限制下，找出完成迁移的最小步骤数。\n",
    "\n",
    "**输入格式:**\n",
    "\n",
    "一个非负整数M，M代表盘数，M<=1000。\n",
    "\n",
    "\n",
    "\n",
    "**输出格式：**\n",
    "\n",
    "一个非负整数，表示完成迁移的最小步骤数。\n",
    "\n",
    "\n",
    "\n",
    "**输入样例：**\n",
    "\n",
    "3\n",
    "\n",
    "\n",
    "\n",
    "**输出样例：**\n",
    "\n",
    "5"
   ]
  },
  {
   "cell_type": "code",
   "execution_count": 44,
   "metadata": {},
   "outputs": [],
   "source": [
    "def moveTowerPlus(height):\n",
    "    if height >= 2:\n",
    "        return 2 * moveTowerPlus(height-2) + 3\n",
    "    elif height == 1:\n",
    "        return 1\n",
    "    else:\n",
    "        return 0"
   ]
  },
  {
   "cell_type": "code",
   "execution_count": 46,
   "metadata": {},
   "outputs": [
    {
     "output_type": "stream",
     "name": "stdout",
     "text": "93\n"
    }
   ],
   "source": [
    "print(moveTowerPlus(10))"
   ]
  }
 ]
}