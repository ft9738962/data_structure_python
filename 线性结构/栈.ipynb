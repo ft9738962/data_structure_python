{
 "nbformat": 4,
 "nbformat_minor": 2,
 "metadata": {
  "language_info": {
   "name": "python",
   "codemirror_mode": {
    "name": "ipython",
    "version": 3
   },
   "version": "3.7.3-final"
  },
  "orig_nbformat": 2,
  "file_extension": ".py",
  "mimetype": "text/x-python",
  "name": "python",
  "npconvert_exporter": "python",
  "pygments_lexer": "ipython3",
  "version": 3,
  "kernelspec": {
   "name": "python3",
   "display_name": "Python 3"
  }
 },
 "cells": [
  {
   "cell_type": "markdown",
   "metadata": {},
   "source": [
    "栈的特性：\n",
    "\n",
    "- 距离栈底越近的数据，留在栈中的时间越长，新加入的数据会被最先移除\n",
    "- 这种次序被称为后进先出，LIFO，Last in First out\n",
    "\n",
    "栈的定义：\n",
    "\n",
    "抽象数据类型“栈”是一个有次序的数据集，每个数据项仅从“栈顶”一端加入到数据集中、从数据集移除，栈具有后进先出LIFO的特性\n",
    "\n",
    "抽象数据类型栈的定义如下操作：\n",
    "* Stack() 生成一个空栈，不包含任何数据\n",
    "* push(item) 栈加入一个item，没有返回\n",
    "* pop() 将栈顶数据移除，并返回，栈被修改\n",
    "* peek() “窥视”栈顶数据项，返回栈顶的数据项但不移除，栈不被修改\n",
    "* isEmpty() 返回栈是否为空栈\n",
    "* size() 返回栈中有多少个数据项\n",
    "\n",
    "Python实现ADT Stack：\n",
    "\n",
    "使用list来实现，可以将list的任意一端(index=0或-1)设置为栈顶，通常使用末端（index=-1）作为栈顶，这样栈的操作就可以通过对list的append和pop来实现\n"
   ]
  },
  {
   "cell_type": "code",
   "execution_count": 27,
   "metadata": {},
   "outputs": [],
   "source": [
    "class Stack:\n",
    "    def __init__(self):\n",
    "        self.items=[]\n",
    "\n",
    "    def isEmpty(self):\n",
    "        return self.items == []\n",
    "\n",
    "    def push(self, item):\n",
    "        self.items.append(item)\n",
    "\n",
    "    def pop(self):\n",
    "        return self.items.pop()\n",
    "\n",
    "    def peek(self):\n",
    "        return self.items[len(self.items)-1]\n",
    "\n",
    "    def size(self):\n",
    "        return len(self.items)"
   ]
  },
  {
   "cell_type": "code",
   "execution_count": 29,
   "metadata": {},
   "outputs": [
    {
     "output_type": "stream",
     "name": "stdout",
     "text": "True\n"
    }
   ],
   "source": [
    "#测试\n",
    "s = Stack()\n",
    "print(s.isEmpty())\n",
    "s.push(4)\n",
    "s.push('dog')\n",
    "print(s.peek())\n",
    "s.push(True)\n",
    "print(s.size())\n",
    "print(s.isEmpty())\n",
    "s.push(8.4)\n",
    "print(s.pop())\n",
    "print(s.pop())\n",
    "print(s.size())"
   ]
  },
  {
   "cell_type": "code",
   "execution_count": null,
   "metadata": {},
   "outputs": [],
   "source": [
    "#如果把list的首端作为栈的栈顶，则实现代码如下\n",
    "class Stack:\n",
    "    def __init__(self):\n",
    "        self.items=[]\n",
    "\n",
    "    def isEmpty(self):\n",
    "        return self.items == []\n",
    "\n",
    "    def push(self, item):\n",
    "        self.items.insert(0, item) #代码有变，性能较原方案差，为O(n)\n",
    "\n",
    "    def pop(self):\n",
    "        return self.items.pop(0) #代码有变，性能较原方案差，为O(n)\n",
    "\n",
    "    def peek(self):\n",
    "        return self.items[0] #代码有变，性能一致\n",
    "\n",
    "    def size(self):\n",
    "        return len(self.items)"
   ]
  },
  {
   "cell_type": "markdown",
   "metadata": {},
   "source": [
    "栈的应用：\n",
    "\n",
    "1. 括号匹配 - 如数学表达式的计算优先级\n",
    "    - 括号必须遵循“平衡”规则"
   ]
  },
  {
   "cell_type": "code",
   "execution_count": null,
   "metadata": {},
   "outputs": [],
   "source": []
  }
 ]
}